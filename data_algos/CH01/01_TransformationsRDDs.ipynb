{
 "cells": [
  {
   "cell_type": "markdown",
   "metadata": {},
   "source": [
    "# Transformations in RDDs\n",
    "A transformation in Spark is a function that takes an existing RDD (the source RDD),\n",
    "applies a transformation to it, and creates a new RDD (the target RDD). "
   ]
  },
  {
   "cell_type": "markdown",
   "metadata": {},
   "source": [
    "> RDDs are not evaluated until an action is performed on them: this means that trans‐\n",
    "formations are lazily evaluated."
   ]
  },
  {
   "cell_type": "code",
   "execution_count": 1,
   "metadata": {},
   "outputs": [
    {
     "name": "stderr",
     "output_type": "stream",
     "text": [
      "24/05/16 13:56:49 WARN Utils: Your hostname, msi-MAG resolves to a loopback address: 127.0.1.1; using 192.168.0.129 instead (on interface wlp3s0)\n",
      "24/05/16 13:56:49 WARN Utils: Set SPARK_LOCAL_IP if you need to bind to another address\n",
      "Setting default log level to \"WARN\".\n",
      "To adjust logging level use sc.setLogLevel(newLevel). For SparkR, use setLogLevel(newLevel).\n",
      "24/05/16 13:56:50 WARN NativeCodeLoader: Unable to load native-hadoop library for your platform... using builtin-java classes where applicable\n",
      "24/05/16 13:56:50 WARN Utils: Service 'SparkUI' could not bind on port 4040. Attempting port 4041.\n"
     ]
    }
   ],
   "source": [
    "# import required Spark class\n",
    "from pyspark.sql import SparkSession\n",
    "spark = SparkSession.builder.getOrCreate()"
   ]
  },
  {
   "cell_type": "markdown",
   "metadata": {},
   "source": [
    "**sparkContext** creates RDDs"
   ]
  },
  {
   "cell_type": "code",
   "execution_count": 2,
   "metadata": {},
   "outputs": [],
   "source": [
    "tuples = [('A', 7), ('A', 8), ('A', -4),\n",
    "('B', 3), ('B', 9), ('B', -1),\n",
    "('C', 1), ('C', 5)]\n",
    "rdd = spark.sparkContext.parallelize(tuples)\n",
    "rdd.collect() # this is an action"
   ]
  },
  {
   "cell_type": "code",
   "execution_count": 4,
   "metadata": {},
   "outputs": [
    {
     "data": {
      "text/plain": [
       "[('A', 7), ('A', 8), ('B', 3), ('B', 9), ('C', 1), ('C', 5)]"
      ]
     },
     "execution_count": 4,
     "metadata": {},
     "output_type": "execute_result"
    }
   ],
   "source": [
    "# drop negative values\n",
    "positives = rdd.filter(lambda x: x[1] > 0) #transformation\n",
    "positives.collect() #action\n"
   ]
  },
  {
   "cell_type": "code",
   "execution_count": 5,
   "metadata": {},
   "outputs": [
    {
     "data": {
      "text/plain": [
       "[('B', <pyspark.resultiterable.ResultIterable at 0x7bab4734fcd0>),\n",
       " ('A', <pyspark.resultiterable.ResultIterable at 0x7bab3ff9e750>),\n",
       " ('C', <pyspark.resultiterable.ResultIterable at 0x7bab3f54ded0>)]"
      ]
     },
     "execution_count": 5,
     "metadata": {},
     "output_type": "execute_result"
    }
   ],
   "source": [
    "# find sum and average per key using groupByKey() \n",
    "# groupByKey() = group by first column\n",
    "# now any function is applied to the VALUE (second column)\n",
    "grouped = positives.groupByKey()\n",
    "grouped.collect()\n"
   ]
  },
  {
   "cell_type": "markdown",
   "metadata": {},
   "source": [
    "> you havent applied a function thats why, you need to tell Spark how you want to merge the values over the keys"
   ]
  },
  {
   "cell_type": "markdown",
   "metadata": {},
   "source": [
    "**Example1**\n",
    "this is a way to make Spark show you what is in the groups"
   ]
  },
  {
   "cell_type": "code",
   "execution_count": 6,
   "metadata": {},
   "outputs": [
    {
     "data": {
      "text/plain": [
       "[('B', [3, 9]), ('A', [7, 8]), ('C', [1, 5])]"
      ]
     },
     "execution_count": 6,
     "metadata": {},
     "output_type": "execute_result"
    }
   ],
   "source": [
    "grouped.mapValues(list).collect()"
   ]
  },
  {
   "cell_type": "markdown",
   "metadata": {},
   "source": [
    "find sum and average per key using <mark>groupByKey()</mark>"
   ]
  },
  {
   "cell_type": "code",
   "execution_count": 7,
   "metadata": {},
   "outputs": [
    {
     "data": {
      "text/plain": [
       "[('B', (12, 6.0)), ('A', (15, 7.5)), ('C', (6, 3.0))]"
      ]
     },
     "execution_count": 7,
     "metadata": {},
     "output_type": "execute_result"
    }
   ],
   "source": [
    "# 2 operations, SUM and AVG in one step\n",
    "sum_and_avg = grouped.mapValues(lambda v: (sum(v), float(sum(v))/len(v)))\n",
    "sum_and_avg.collect()"
   ]
  },
  {
   "cell_type": "markdown",
   "metadata": {},
   "source": [
    "find sum and average per key using <mark>reduceByKey()</mark>\n",
    "> **reduceByKey** Merge the values for each key using an associative and commutative reduce function."
   ]
  },
  {
   "cell_type": "code",
   "execution_count": 9,
   "metadata": {},
   "outputs": [
    {
     "data": {
      "text/plain": [
       "[('A', 7), ('A', 8), ('B', 3), ('B', 9), ('C', 1), ('C', 5)]"
      ]
     },
     "execution_count": 9,
     "metadata": {},
     "output_type": "execute_result"
    }
   ],
   "source": [
    "positives.collect()"
   ]
  },
  {
   "cell_type": "code",
   "execution_count": 8,
   "metadata": {},
   "outputs": [
    {
     "data": {
      "text/plain": [
       "[('A', (7, 1)),\n",
       " ('A', (8, 1)),\n",
       " ('B', (3, 1)),\n",
       " ('B', (9, 1)),\n",
       " ('C', (1, 1)),\n",
       " ('C', (5, 1))]"
      ]
     },
     "execution_count": 8,
     "metadata": {},
     "output_type": "execute_result"
    }
   ],
   "source": [
    "\n",
    "# 1. create (the element itself, 1) per key\n",
    "sum_count = positives.mapValues(lambda v: (v, 1))\n",
    "sum_count.collect()"
   ]
  },
  {
   "cell_type": "markdown",
   "metadata": {},
   "source": [
    "> **mapValues:** Pass each value in the key-value pair RDD through a map function without changing the keys; this also retains the original RDD’s partitioning."
   ]
  },
  {
   "cell_type": "code",
   "execution_count": 10,
   "metadata": {},
   "outputs": [
    {
     "data": {
      "text/plain": [
       "[('B', (12, 2)), ('A', (15, 2)), ('C', (6, 2))]"
      ]
     },
     "execution_count": 10,
     "metadata": {},
     "output_type": "execute_result"
    }
   ],
   "source": [
    "# 2. aggregate (sum, count) per key\n",
    "sum_count_agg = sum_count.reduceByKey(lambda x, y: (x[0]+y[0], x[1]+y[1]))\n",
    "sum_count_agg.collect()"
   ]
  },
  {
   "cell_type": "markdown",
   "metadata": {},
   "source": [
    "> ('B', (3, 1)),('B', (9, 1)) --> B: (3+9),(1+1) --> B:  (12, 2)"
   ]
  },
  {
   "cell_type": "code",
   "execution_count": 11,
   "metadata": {},
   "outputs": [
    {
     "data": {
      "text/plain": [
       "[('B', (12, 6.0)), ('A', (15, 7.5)), ('C', (6, 3.0))]"
      ]
     },
     "execution_count": 11,
     "metadata": {},
     "output_type": "execute_result"
    }
   ],
   "source": [
    "# 3. finalize sum and average per key\n",
    "sum_and_avg = sum_count_agg.mapValues(lambda v: (v[0], float(v[0])/v[1]))\n",
    "sum_and_avg.collect()"
   ]
  },
  {
   "cell_type": "markdown",
   "metadata": {},
   "source": [
    "> This one is way more verbose"
   ]
  },
  {
   "cell_type": "markdown",
   "metadata": {},
   "source": [
    "# Actions\n",
    "* reduce():Applies a function to deliver a single value, such as adding values for a given\n",
    "RDD[Integer]\n",
    "* collect(): Converts an RDD[T] into a list of type T\n",
    "* count() Finds the number of elements in a given RDD\n",
    "* saveAsTextFile(): Saves RDD elements to a disk\n",
    "* saveAsMap(): Saves RDD[(K, V)] elements to a disk as a dict[K, V]"
   ]
  },
  {
   "cell_type": "code",
   "execution_count": null,
   "metadata": {},
   "outputs": [],
   "source": [
    "spark.stop()"
   ]
  }
 ],
 "metadata": {
  "kernelspec": {
   "display_name": "base",
   "language": "python",
   "name": "python3"
  },
  "language_info": {
   "codemirror_mode": {
    "name": "ipython",
    "version": 3
   },
   "file_extension": ".py",
   "mimetype": "text/x-python",
   "name": "python",
   "nbconvert_exporter": "python",
   "pygments_lexer": "ipython3",
   "version": "3.11.7"
  }
 },
 "nbformat": 4,
 "nbformat_minor": 2
}
