{
 "cells": [
  {
   "cell_type": "code",
   "execution_count": 10,
   "metadata": {},
   "outputs": [],
   "source": [
    "from pyspark.sql import SparkSession\n",
    "import os \n",
    "spark = SparkSession.builder.appName(\"name02\").getOrCreate()"
   ]
  },
  {
   "cell_type": "code",
   "execution_count": 11,
   "metadata": {},
   "outputs": [],
   "source": [
    "import pyspark.sql.functions as F "
   ]
  },
  {
   "cell_type": "markdown",
   "metadata": {},
   "source": [
    "# MissingData\n",
    "Spark provides a dedicated class called DataFrameNaFunctions to help in\n",
    "dealing with this inconvenient issue."
   ]
  },
  {
   "cell_type": "code",
   "execution_count": 4,
   "metadata": {},
   "outputs": [],
   "source": [
    "badMovies = [(None, None, None),\\\n",
    "            (None, None, 2018),\\\n",
    "            (\"John Doe\", \"Awesome Movie\", None),\\\n",
    "            (None, \"Awesome Movie\", 2018),\\\n",
    "            (\"Mary Jane\", None, 2018)\\\n",
    "            ]\n"
   ]
  },
  {
   "cell_type": "code",
   "execution_count": 5,
   "metadata": {},
   "outputs": [
    {
     "name": "stdout",
     "output_type": "stream",
     "text": [
      "+----------+-------------+-------------+\n",
      "|actor_name|  movie_title|produced_year|\n",
      "+----------+-------------+-------------+\n",
      "|      null|         null|         null|\n",
      "|      null|         null|         2018|\n",
      "|  John Doe|Awesome Movie|         null|\n",
      "|      null|Awesome Movie|         2018|\n",
      "| Mary Jane|         null|         2018|\n",
      "+----------+-------------+-------------+\n",
      "\n"
     ]
    }
   ],
   "source": [
    "badMoviesDF = spark.createDataFrame(badMovies, [ 'actor_name','movie_title','produced_year'])\n",
    "badMoviesDF.show()"
   ]
  },
  {
   "cell_type": "markdown",
   "metadata": {},
   "source": [
    "## drop NA (any)\n",
    "If the row has at least 1 NA, drop it"
   ]
  },
  {
   "cell_type": "code",
   "execution_count": 6,
   "metadata": {},
   "outputs": [
    {
     "name": "stdout",
     "output_type": "stream",
     "text": [
      "+----------+-----------+-------------+\n",
      "|actor_name|movie_title|produced_year|\n",
      "+----------+-----------+-------------+\n",
      "+----------+-----------+-------------+\n",
      "\n",
      "+----------+-----------+-------------+\n",
      "|actor_name|movie_title|produced_year|\n",
      "+----------+-----------+-------------+\n",
      "+----------+-----------+-------------+\n",
      "\n"
     ]
    }
   ],
   "source": [
    "# dropping rows that have missing data in any column\n",
    "# both of the lines below achieve the same output\n",
    "badMoviesDF.na.drop().show()\n",
    "badMoviesDF.na.drop(\"any\").show()"
   ]
  },
  {
   "cell_type": "markdown",
   "metadata": {},
   "source": [
    "## drop ALL\n",
    "drop rows that have missing data in every single column"
   ]
  },
  {
   "cell_type": "code",
   "execution_count": 7,
   "metadata": {},
   "outputs": [
    {
     "name": "stdout",
     "output_type": "stream",
     "text": [
      "+----------+-------------+-------------+\n",
      "|actor_name|  movie_title|produced_year|\n",
      "+----------+-------------+-------------+\n",
      "|      null|         null|         2018|\n",
      "|  John Doe|Awesome Movie|         null|\n",
      "|      null|Awesome Movie|         2018|\n",
      "| Mary Jane|         null|         2018|\n",
      "+----------+-------------+-------------+\n",
      "\n"
     ]
    }
   ],
   "source": [
    "badMoviesDF.na.drop(\"all\").show()"
   ]
  },
  {
   "cell_type": "markdown",
   "metadata": {},
   "source": [
    "## Drop Subset\n",
    "drops rows that column actor_name has missing data\n"
   ]
  },
  {
   "cell_type": "code",
   "execution_count": 8,
   "metadata": {},
   "outputs": [
    {
     "name": "stdout",
     "output_type": "stream",
     "text": [
      "+----------+-------------+-------------+\n",
      "|actor_name|  movie_title|produced_year|\n",
      "+----------+-------------+-------------+\n",
      "|  John Doe|Awesome Movie|         null|\n",
      "| Mary Jane|         null|         2018|\n",
      "+----------+-------------+-------------+\n",
      "\n"
     ]
    }
   ],
   "source": [
    "badMoviesDF.na.drop(subset=[\"actor_name\"]).show()"
   ]
  },
  {
   "cell_type": "markdown",
   "metadata": {},
   "source": [
    "# Actions"
   ]
  },
  {
   "cell_type": "markdown",
   "metadata": {},
   "source": [
    "\n",
    "\n",
    "| Operation               | Description                                                                                                                                                                                                                               |\n",
    "|-------------------------|-------------------------------------------------------------------------------------------------------------------------------------------------------------------------------------------------------------------------------------------|\n",
    "| `show()`                | Display the row in a tabular format. If `numRows` is not specified, it shows the top 20 rows. The `truncate` option controls whether to truncate a string column if it is longer than 20 characters.                                       |\n",
    "| `show(numRows)`         | Display the top `numRows` rows.                                                                                                                                                                                                           |\n",
    "| `show(truncate)`        | Truncate a string column if it is longer than 20 characters.                                                                                                                                                                              |\n",
    "| `show(numRows, truncate)` | Display the top `numRows` rows and truncate a string column if it is longer than 20 characters.                                                                                                                                           |\n",
    "| `head()`                | Return the first row.                                                                                                                                                                                                                     |\n",
    "| `first()`               | Alias for `head()`.                                                                                                                                                                                                                       |\n",
    "| `head(n)`               | Return the first `n` rows.                                                                                                                                                                                                                |\n",
    "| `take(n)`               | Alias for `head(n)`.                                                                                                                                                                                                                      |\n",
    "| `takeAsList(n)`         | Return the first `n` rows as a Java list. Be careful not to take too many rows; otherwise, it may cause an out-of-memory error on the application’s driver process.                                                                       |\n",
    "| `collect`               | Return all the rows as an array or a Java list. Apply the same caution as the one described in `takeAsList` action.                                                                                                                       |\n",
    "| `collectAsList`         | Alias for `collect`.                                                                                                                                                                                                                      |\n",
    "| `count`                 | Return the number of rows in the DataFrame.                                                                                                                                                                                               |\n",
    "| `describe`              | Compute common statistics about numeric and string columns in the DataFrame. Available statistics are count, mean, stddev, min, max, and arbitrary approximate percentiles.                                                                |\n"
   ]
  },
  {
   "cell_type": "code",
   "execution_count": 9,
   "metadata": {},
   "outputs": [
    {
     "name": "stdout",
     "output_type": "stream",
     "text": [
      "+-------+-------------+\n",
      "|summary|produced_year|\n",
      "+-------+-------------+\n",
      "|  count|            3|\n",
      "|   mean|       2018.0|\n",
      "| stddev|          0.0|\n",
      "|    min|         2018|\n",
      "|    max|         2018|\n",
      "+-------+-------------+\n",
      "\n"
     ]
    }
   ],
   "source": [
    "badMoviesDF.describe(\"produced_year\").show()"
   ]
  },
  {
   "cell_type": "markdown",
   "metadata": {},
   "source": [
    "# Write Df\n",
    "> **Common Interacting Pattern with DataFrameWriter** <br>\n",
    "movies.write.format(...).mode(...).option(...).partitionBy(...).bucketBy(..\n",
    ".).sortBy(...).save(path)"
   ]
  },
  {
   "cell_type": "markdown",
   "metadata": {},
   "source": [
    "> The save mode\n",
    "\n",
    "| Mode            | Description                                                                                                                                                      |\n",
    "|-----------------|------------------------------------------------------------------------------------------------------------------------------------------------------------------|\n",
    "| `append`        | This appends the DataFrame data to the list of files that already exist at the specified destination location.                                                    |\n",
    "| `overwrite`     | This completely overwrites any data files that already exist at the specified destination location with the data in the DataFrame.                                |\n",
    "| `error`         | This is the default mode. If the specified destination location exists, then `DataFrameWriter` throws an error.                                                   |\n",
    "| `errorIfExists` | Alias for `error`.                                                                                                                                               |\n",
    "| `default`       | Alias for `error`.                                                                                                                                               |\n",
    "| `ignore`        | If the specified destination location exists, then simply do nothing. In other words, silently don’t write out the data in the DataFrame.                         |\n"
   ]
  },
  {
   "cell_type": "code",
   "execution_count": null,
   "metadata": {},
   "outputs": [],
   "source": [
    "# write data out in CVS format, but using a '#' as delimiter\n",
    "movies.write.format(\"csv\").option(\"sep\", \"#\").save(\"/tmp/output/csv\")\n",
    "\n",
    "# write data out using overwrite save mode\n",
    "movies.write.format(\"csv\").mode(\"overwrite\").option(\"sep\", \"#\").save(\"/tmp/output/csv\")"
   ]
  },
  {
   "cell_type": "markdown",
   "metadata": {},
   "source": [
    "##  partitioning and bucketing\n",
    "> The DataFrameWriter\n",
    "writes out all the movies with the same produced_year into a single directory. The\n",
    "number of directories in the output folder corresponds to the number of years in the\n",
    "movies DataFrame."
   ]
  },
  {
   "cell_type": "code",
   "execution_count": null,
   "metadata": {},
   "outputs": [],
   "source": [
    "#Write the movies DataFrame Using Partition By produced_year Column\n",
    "movies.write.partitionBy(\"produced_year\").save(\"/tmp/output/movies \")"
   ]
  },
  {
   "cell_type": "markdown",
   "metadata": {},
   "source": [
    "# Aggregations"
   ]
  },
  {
   "cell_type": "markdown",
   "metadata": {},
   "source": [
    "The grouping of rows can be done at different levels, and Spark\n",
    "supports the following levels.\n",
    "\n",
    "* Treat a DataFrame as one group.\n",
    "* Divide a DataFrame into multiple groups using one or more columns\n",
    "and perform one or more aggregations on each group.\n",
    "* Divide a DataFrame into multiple windows and perform moving\n",
    "average, cumulative sum, or ranking. If a window is based on time,\n",
    "the aggregations can be done per tumbling or sliding windows"
   ]
  },
  {
   "cell_type": "markdown",
   "metadata": {},
   "source": [
    "## Aggregation Functions\n",
    "In Spark, all aggregations are done via functions. The aggregation functions are designed\n",
    "to perform aggregation on a set of rows \n",
    "| Operation             | Description                                                                                                             |\n",
    "|-----------------------|-------------------------------------------------------------------------------------------------------------------------|\n",
    "| `count(col)`          | Return the number of items per group.                                                                                   |\n",
    "| `countDistinct(col)`  | Return the unique number of items per group.                                                                            |\n",
    "| `approx_count_distinct(col)` | Return the approximate number of unique items per group.                                                                |\n",
    "| `min(col)`            | Return the minimum value of the given column per group.                                                                 |\n",
    "| `max(col)`            | Return the maximum value of the given column per group.                                                                 |\n",
    "| `sum(col)`            | Return the sum of the values in the given column per group.                                                             |\n",
    "| `sumDistinct(col)`    | Return the sum of the distinct values of the given column per group.                                                    |\n",
    "| `avg(col)`            | Return the average of the values of the given column per group.                                                         |\n",
    "| `skewness(col)`       | Return the skewness of the distribution of the values of the given column per group.                                    |\n",
    "| `kurtosis(col)`       | Return the kurtosis of the distribution of the values of the given column per group.                                    |\n",
    "| `variance(col)`       | Return the unbiased variance of the values of the given column per group.                                               |\n",
    "| `stddev(col)`         | Return the standard deviation of the values of the given column per group.                                              |\n",
    "| `collect_list(col)`   | Return a collection of values of the given column. The returned collection may contain duplicate values.                |\n",
    "| `collect_set(col)`    | Return a collection of unique values of the given column.                                                               |\n",
    "\n"
   ]
  },
  {
   "cell_type": "code",
   "execution_count": 38,
   "metadata": {},
   "outputs": [
    {
     "data": {
      "text/plain": [
       "'/home/msi/beginning-apache-spark-3/chapter4/data/flights/flight-summary.csv'"
      ]
     },
     "execution_count": 38,
     "metadata": {},
     "output_type": "execute_result"
    }
   ],
   "source": [
    "path = \"/home/msi/beginning-apache-spark-3/\"\n",
    "path = os.path.join(path,\"chapter4/data/flights/flight-summary.csv\")\n",
    "path"
   ]
  },
  {
   "cell_type": "code",
   "execution_count": 39,
   "metadata": {},
   "outputs": [],
   "source": [
    "flight_summary = spark.read.format(\"csv\")\\\n",
    ".option(\"header\", \"true\")\\\n",
    ".option(\"inferSchema\",\"true\")\\\n",
    ".load(path)"
   ]
  },
  {
   "cell_type": "code",
   "execution_count": 40,
   "metadata": {},
   "outputs": [
    {
     "name": "stdout",
     "output_type": "stream",
     "text": [
      "+-----------+------------------------------------------+------------+------------+---------+----------------------------------------+---------+----------+-----+\n",
      "|origin_code|origin_airport                            |origin_city |origin_state|dest_code|dest_airport                            |dest_city|dest_state|count|\n",
      "+-----------+------------------------------------------+------------+------------+---------+----------------------------------------+---------+----------+-----+\n",
      "|BQN        |Rafael Hernández Airport                  |Aguadilla   |PR          |MCO      |Orlando International Airport           |Orlando  |FL        |441  |\n",
      "|PHL        |Philadelphia International Airport        |Philadelphia|PA          |MCO      |Orlando International Airport           |Orlando  |FL        |4869 |\n",
      "|MCI        |Kansas City International Airport         |Kansas City |MO          |IAH      |George Bush Intercontinental Airport    |Houston  |TX        |1698 |\n",
      "|SPI        |Abraham Lincoln Capital Airport           |Springfield |IL          |ORD      |Chicago O'Hare International Airport    |Chicago  |IL        |998  |\n",
      "|SNA        |John Wayne Airport (Orange County Airport)|Santa Ana   |CA          |PHX      |Phoenix Sky Harbor International Airport|Phoenix  |AZ        |3846 |\n",
      "+-----------+------------------------------------------+------------+------------+---------+----------------------------------------+---------+----------+-----+\n",
      "only showing top 5 rows\n",
      "\n"
     ]
    }
   ],
   "source": [
    "flight_summary.show(5,False)"
   ]
  },
  {
   "cell_type": "code",
   "execution_count": 41,
   "metadata": {},
   "outputs": [
    {
     "name": "stdout",
     "output_type": "stream",
     "text": [
      "root\n",
      " |-- origin_code: string (nullable = true)\n",
      " |-- origin_airport: string (nullable = true)\n",
      " |-- origin_city: string (nullable = true)\n",
      " |-- origin_state: string (nullable = true)\n",
      " |-- dest_code: string (nullable = true)\n",
      " |-- dest_airport: string (nullable = true)\n",
      " |-- dest_city: string (nullable = true)\n",
      " |-- dest_state: string (nullable = true)\n",
      " |-- count: integer (nullable = true)\n",
      "\n"
     ]
    }
   ],
   "source": [
    "flight_summary.printSchema()"
   ]
  },
  {
   "cell_type": "code",
   "execution_count": 43,
   "metadata": {},
   "outputs": [
    {
     "name": "stderr",
     "output_type": "stream",
     "text": [
      "24/05/19 14:34:35 WARN package: Truncated the string representation of a plan since it was too large. This behavior can be adjusted by setting 'spark.sql.debug.maxToStringFields'.\n"
     ]
    },
    {
     "name": "stdout",
     "output_type": "stream",
     "text": [
      "+-------+-----------+--------------------+-----------+------------+---------+--------------------+---------+----------+------------------+\n",
      "|summary|origin_code|      origin_airport|origin_city|origin_state|dest_code|        dest_airport|dest_city|dest_state|             count|\n",
      "+-------+-----------+--------------------+-----------+------------+---------+--------------------+---------+----------+------------------+\n",
      "|  count|       4693|                4693|       4693|        4693|     4693|                4693|     4693|      4693|              4693|\n",
      "|   mean|       null|                null|       null|        null|     null|                null|     null|      null|1136.3549968037503|\n",
      "| stddev|       null|                null|       null|        null|     null|                null|     null|      null| 1370.779981308405|\n",
      "|    min|        ABE|Aberdeen Regional...|   Aberdeen|          AK|      ABE|Aberdeen Regional...| Aberdeen|        AK|                 1|\n",
      "|    max|        YUM|Yuma Internationa...|       Yuma|          WY|      YUM|Yuma Internationa...|     Yuma|        WY|             13744|\n",
      "+-------+-----------+--------------------+-----------+------------+---------+--------------------+---------+----------+------------------+\n",
      "\n"
     ]
    }
   ],
   "source": [
    "flight_summary.describe().show()"
   ]
  },
  {
   "cell_type": "markdown",
   "metadata": {},
   "source": [
    "## Count\n",
    "When counting the number of items in a column, the count(col) function doesn’t\n",
    "include the null value in the count."
   ]
  },
  {
   "cell_type": "code",
   "execution_count": 45,
   "metadata": {},
   "outputs": [
    {
     "name": "stdout",
     "output_type": "stream",
     "text": [
      "+---------------------+-------------------+\n",
      "|count(origin_airport)|destination_airport|\n",
      "+---------------------+-------------------+\n",
      "|                 4693|               4693|\n",
      "+---------------------+-------------------+\n",
      "\n"
     ]
    }
   ],
   "source": [
    "flight_summary.select(F.count(\"origin_airport\"),\\\n",
    "                    F.count(\"dest_airport\").alias(\"destination_airport\")).show()"
   ]
  },
  {
   "cell_type": "markdown",
   "metadata": {},
   "source": [
    "> Example with NULLs"
   ]
  },
  {
   "cell_type": "code",
   "execution_count": 51,
   "metadata": {},
   "outputs": [
    {
     "name": "stdout",
     "output_type": "stream",
     "text": [
      "+----------+-------------+-------------+\n",
      "|actor_name|  movie_title|produced_year|\n",
      "+----------+-------------+-------------+\n",
      "|      null|         null|         2018|\n",
      "|  John Doe|Awesome Movie|         2018|\n",
      "|      null|Awesome Movie|         2018|\n",
      "| Mary Jane|Awesome Movie|         2018|\n",
      "+----------+-------------+-------------+\n",
      "\n"
     ]
    }
   ],
   "source": [
    "## example with nulls\n",
    "ex = [(None, None, 2018),\\\n",
    "(\"John Doe\", \"Awesome Movie\", 2018),\\\n",
    "(None, \"Awesome Movie\", 2018),\\\n",
    "(\"Mary Jane\", \"Awesome Movie\", 2018)]\n",
    "\n",
    "exWithNullDF = spark.createDataFrame(ex, [\"actor_name\",\"movie_title\",\"produced_year\"])\n",
    "exWithNullDF.show()"
   ]
  },
  {
   "cell_type": "markdown",
   "metadata": {},
   "source": [
    "> count"
   ]
  },
  {
   "cell_type": "code",
   "execution_count": 50,
   "metadata": {},
   "outputs": [
    {
     "name": "stdout",
     "output_type": "stream",
     "text": [
      "+-----------------+------------------+--------------------+--------+\n",
      "|count(actor_name)|count(movie_title)|count(produced_year)|count(1)|\n",
      "+-----------------+------------------+--------------------+--------+\n",
      "|                2|                 3|                   4|       4|\n",
      "+-----------------+------------------+--------------------+--------+\n",
      "\n"
     ]
    }
   ],
   "source": [
    "exWithNullDF.select(F.count(\"actor_name\"), F.count(\"movie_title\"),\\\n",
    "                    F.count(\"produced_year\"), F.count(\"*\")).show()"
   ]
  },
  {
   "cell_type": "markdown",
   "metadata": {},
   "source": [
    "## countDistinct(col)"
   ]
  },
  {
   "cell_type": "code",
   "execution_count": 53,
   "metadata": {},
   "outputs": [
    {
     "name": "stdout",
     "output_type": "stream",
     "text": [
      "+------------------------------+----------------------------+---------------------+\n",
      "|count(DISTINCT origin_airport)|count(DISTINCT dest_airport)|count(origin_airport)|\n",
      "+------------------------------+----------------------------+---------------------+\n",
      "|                           322|                         322|                 4693|\n",
      "+------------------------------+----------------------------+---------------------+\n",
      "\n"
     ]
    }
   ],
   "source": [
    "flight_summary.select(F.countDistinct(\"origin_airport\"),\n",
    "                    F.countDistinct(\"dest_airport\"), F.count(\"origin_airport\")).show()"
   ]
  },
  {
   "cell_type": "markdown",
   "metadata": {},
   "source": [
    "> `countDistict` over large DataSet is an expensive operation <br>\n",
    "> In some use cases, it is sufficient to have an\n",
    "approximate unique count"
   ]
  },
  {
   "cell_type": "code",
   "execution_count": 56,
   "metadata": {},
   "outputs": [
    {
     "name": "stdout",
     "output_type": "stream",
     "text": [
      "+------------------------------+-------------------------------------+\n",
      "|count(DISTINCT origin_airport)|approx_count_distinct(origin_airport)|\n",
      "+------------------------------+-------------------------------------+\n",
      "|                           322|                                  316|\n",
      "+------------------------------+-------------------------------------+\n",
      "\n"
     ]
    }
   ],
   "source": [
    "flight_summary.select(F.countDistinct(\"origin_airport\"), F.approx_count_distinct(\"origin_airport\")).show()"
   ]
  },
  {
   "cell_type": "markdown",
   "metadata": {},
   "source": [
    "## min(col), max(col)"
   ]
  },
  {
   "cell_type": "code",
   "execution_count": 60,
   "metadata": {},
   "outputs": [
    {
     "name": "stdout",
     "output_type": "stream",
     "text": [
      "+----------+----------+\n",
      "|min(count)|max(count)|\n",
      "+----------+----------+\n",
      "|         1|     13744|\n",
      "+----------+----------+\n",
      "\n"
     ]
    }
   ],
   "source": [
    "flight_summary.select(F.min(\"count\"), F.max(\"count\")).show()"
   ]
  },
  {
   "cell_type": "markdown",
   "metadata": {},
   "source": [
    "## sum(col)\n",
    "This function computes the sum of the values in a numeric column"
   ]
  },
  {
   "cell_type": "code",
   "execution_count": 62,
   "metadata": {},
   "outputs": [
    {
     "name": "stdout",
     "output_type": "stream",
     "text": [
      "+----------+\n",
      "|sum(count)|\n",
      "+----------+\n",
      "|   5332914|\n",
      "+----------+\n",
      "\n"
     ]
    }
   ],
   "source": [
    "flight_summary.select(F.sum(\"count\")).show()"
   ]
  },
  {
   "cell_type": "markdown",
   "metadata": {},
   "source": [
    "## sumDistinct(col)\n",
    "It sums up only the distinct values of a numeric column. "
   ]
  },
  {
   "cell_type": "code",
   "execution_count": 63,
   "metadata": {},
   "outputs": [
    {
     "name": "stdout",
     "output_type": "stream",
     "text": [
      "+----------+-------------------+\n",
      "|sum(count)|sum(DISTINCT count)|\n",
      "+----------+-------------------+\n",
      "|   5332914|            3612257|\n",
      "+----------+-------------------+\n",
      "\n"
     ]
    },
    {
     "name": "stderr",
     "output_type": "stream",
     "text": [
      "/home/msi/spark-3.4.0-bin-hadoop3/python/pyspark/sql/functions.py:752: FutureWarning: Deprecated in 3.2, use sum_distinct instead.\n",
      "  warnings.warn(\"Deprecated in 3.2, use sum_distinct instead.\", FutureWarning)\n"
     ]
    }
   ],
   "source": [
    "flight_summary.select(F.sum(\"count\"), F.sumDistinct(\"count\")).show()"
   ]
  },
  {
   "cell_type": "markdown",
   "metadata": {},
   "source": [
    "## avg(col)\n",
    "This function calculates the average value of a numeric column. "
   ]
  },
  {
   "cell_type": "code",
   "execution_count": 64,
   "metadata": {},
   "outputs": [
    {
     "name": "stdout",
     "output_type": "stream",
     "text": [
      "+------------------+---------------------------+\n",
      "|        avg(count)|(sum(count) / count(count))|\n",
      "+------------------+---------------------------+\n",
      "|1136.3549968037503|         1136.3549968037503|\n",
      "+------------------+---------------------------+\n",
      "\n"
     ]
    }
   ],
   "source": [
    "# Computing the Average Value of the Count Column Using Two Different Ways\n",
    "flight_summary.select(F.avg(\"count\"),\\\n",
    "                    (F.sum(\"count\") / F.count(\"count\"))).show()"
   ]
  },
  {
   "attachments": {
    "image.png": {
     "image/png": "[encoded data removed]"
    }
   },
   "cell_type": "markdown",
   "metadata": {},
   "source": [
    "## skewness(col), kurtosis(col)\n",
    "Skewness measures the symmetry of the value distribution in a dataset, and its\n",
    "value can be positive, zero, negative, or undefined. <br>\n",
    "* normal distribution = 0\n",
    "![image.png](attachment:image.png)"
   ]
  },
  {
   "cell_type": "markdown",
   "metadata": {},
   "source": [
    "Kurtosis is a measure of the shape of the distribution curve, whether the curve is\n",
    "normal, flat, or pointy. \n",
    "* Positive kurtosis indicates the curve is slender and pointy \n",
    "* negative kurtosis indicates fat and flat."
   ]
  },
  {
   "cell_type": "code",
   "execution_count": 65,
   "metadata": {},
   "outputs": [
    {
     "name": "stdout",
     "output_type": "stream",
     "text": [
      "+-----------------+-----------------+\n",
      "|  skewness(count)|  kurtosis(count)|\n",
      "+-----------------+-----------------+\n",
      "|2.682183800064101|10.51726963017102|\n",
      "+-----------------+-----------------+\n",
      "\n"
     ]
    }
   ],
   "source": [
    "flight_summary.select(F.skewness(\"count\"), F.kurtosis(\"count\")).show()"
   ]
  },
  {
   "cell_type": "markdown",
   "metadata": {},
   "source": [
    "> The result suggests the distribution of the counts is not symmetric, and the right tail\n",
    "is longer or fatter than the left tail. The kurtosis value suggests that the distribution curve is pointy."
   ]
  },
  {
   "cell_type": "markdown",
   "metadata": {},
   "source": [
    "## variance(col), stddev(col)\n"
   ]
  },
  {
   "cell_type": "code",
   "execution_count": 67,
   "metadata": {},
   "outputs": [
    {
     "name": "stdout",
     "output_type": "stream",
     "text": [
      "+------------------+------------------+------------------+-----------------+\n",
      "|   var_samp(count)|    var_pop(count)|stddev_samp(count)|stddev_pop(count)|\n",
      "+------------------+------------------+------------------+-----------------+\n",
      "|1879037.7571558713|1878637.3655604832| 1370.779981308405|1370.633928355957|\n",
      "+------------------+------------------+------------------+-----------------+\n",
      "\n"
     ]
    }
   ],
   "source": [
    "# use the two variations of variance and standard deviation\n",
    "flight_summary.select(F.variance(\"count\"), F.var_pop(\"count\"), F.stddev(\"count\"),\n",
    "F.stddev_pop(\"count\")).show()"
   ]
  },
  {
   "cell_type": "markdown",
   "metadata": {},
   "source": [
    "# Aggregation with Grouping"
   ]
  },
  {
   "cell_type": "markdown",
   "metadata": {},
   "source": [
    "instead of performing aggregation on the global group in\n",
    "the DataFrame, they perform the aggregation on each subgroup.\n",
    "> the groupBy transformation returns an instance of\n",
    "RelationalGroupedDataset class, to which you can apply one or more aggregation\n",
    "functions. "
   ]
  },
  {
   "cell_type": "code",
   "execution_count": 73,
   "metadata": {},
   "outputs": [
    {
     "name": "stdout",
     "output_type": "stream",
     "text": [
      "+-------------------------------------------------+-----+\n",
      "|origin_airport                                   |count|\n",
      "+-------------------------------------------------+-----+\n",
      "|Melbourne International Airport                  |1    |\n",
      "|San Diego International Airport (Lindbergh Field)|46   |\n",
      "|Eppley Airfield                                  |21   |\n",
      "|Kahului Airport                                  |18   |\n",
      "|Austin-Bergstrom International Airport           |41   |\n",
      "+-------------------------------------------------+-----+\n",
      "only showing top 5 rows\n",
      "\n"
     ]
    }
   ],
   "source": [
    "flight_summary.groupBy(\"origin_airport\").count().show(5, False)"
   ]
  },
  {
   "cell_type": "code",
   "execution_count": 77,
   "metadata": {},
   "outputs": [
    {
     "name": "stdout",
     "output_type": "stream",
     "text": [
      "root\n",
      " |-- origin_code: string (nullable = true)\n",
      " |-- origin_airport: string (nullable = true)\n",
      " |-- origin_city: string (nullable = true)\n",
      " |-- origin_state: string (nullable = true)\n",
      " |-- dest_code: string (nullable = true)\n",
      " |-- dest_airport: string (nullable = true)\n",
      " |-- dest_city: string (nullable = true)\n",
      " |-- dest_state: string (nullable = true)\n",
      " |-- count: integer (nullable = true)\n",
      "\n"
     ]
    }
   ],
   "source": [
    "flight_summary.printSchema()"
   ]
  },
  {
   "cell_type": "code",
   "execution_count": 79,
   "metadata": {},
   "outputs": [
    {
     "name": "stdout",
     "output_type": "stream",
     "text": [
      "+------------+-------------+-----+\n",
      "|origin_state|  origin_city|count|\n",
      "+------------+-------------+-----+\n",
      "|          CA|      Oakland|   35|\n",
      "|          CA|   Long Beach|   12|\n",
      "|          CA|     San Jose|   25|\n",
      "|          CA|Mammoth Lakes|    2|\n",
      "|          CA|       Fresno|    9|\n",
      "|          CA|  Santa Maria|    2|\n",
      "|          CA|Santa Barbara|    6|\n",
      "|          CA|      Redding|    1|\n",
      "|          CA|   Sacramento|   27|\n",
      "|          CA|    Santa Ana|   22|\n",
      "|          CA|San Francisco|   80|\n",
      "|          CA|      Ontario|   14|\n",
      "|          CA|Arcata/Eureka|    1|\n",
      "|          CA|  Bakersfield|    4|\n",
      "|          CA|      Burbank|   11|\n",
      "|          CA|     Monterey|    3|\n",
      "|          CA|    San Diego|   47|\n",
      "|          CA| Palm Springs|   12|\n",
      "|          CA|  Los Angeles|   80|\n",
      "|          CA|Crescent City|    1|\n",
      "+------------+-------------+-----+\n",
      "only showing top 20 rows\n",
      "\n"
     ]
    }
   ],
   "source": [
    "# the column count gets the name count automatically, this way is dangerous\n",
    "flight_summary.groupBy(\"origin_state\", \"origin_city\").count()\\\n",
    "    .where(F.col(\"origin_state\") == \"CA\").show()"
   ]
  },
  {
   "cell_type": "code",
   "execution_count": 84,
   "metadata": {},
   "outputs": [
    {
     "name": "stdout",
     "output_type": "stream",
     "text": [
      "+------------+-----------+-----------+\n",
      "|origin_state|origin_city|my_col_name|\n",
      "+------------+-----------+-----------+\n",
      "|          NM|Albuquerque|         23|\n",
      "|          NM|   Santa Fe|          3|\n",
      "|          NM|    Roswell|          1|\n",
      "|          NM|      Hobbs|          1|\n",
      "+------------+-----------+-----------+\n",
      "\n"
     ]
    }
   ],
   "source": [
    "# better this indirect way using the AGG\n",
    "flight_summary.groupBy(\"origin_state\", \"origin_city\")\\\n",
    "    .agg(F.count(\"*\").alias(\"my_col_name\"))\\\n",
    "    .orderBy(F.col(\"my_col_name\").desc())\\\n",
    "    .where(F.col(\"origin_state\") == \"NM\").show()"
   ]
  },
  {
   "cell_type": "markdown",
   "metadata": {},
   "source": [
    "## Multiple Aggregations per Group"
   ]
  },
  {
   "cell_type": "code",
   "execution_count": 89,
   "metadata": {},
   "outputs": [
    {
     "name": "stdout",
     "output_type": "stream",
     "text": [
      "+------------------------------------------------+------------+----------+----------+----------+\n",
      "|origin_airport                                  |count(count)|min(count)|max(count)|sum(count)|\n",
      "+------------------------------------------------+------------+----------+----------+----------+\n",
      "|Hartsfield-Jackson Atlanta International Airport|169         |1         |8234      |346836    |\n",
      "|Chicago O'Hare International Airport            |162         |2         |9575      |285884    |\n",
      "|Dallas/Fort Worth International Airport         |148         |63        |7870      |239551    |\n",
      "|Denver International Airport                    |139         |2         |7211      |196055    |\n",
      "|Minneapolis-Saint Paul International Airport    |120         |1         |6296      |112117    |\n",
      "+------------------------------------------------+------------+----------+----------+----------+\n",
      "only showing top 5 rows\n",
      "\n"
     ]
    }
   ],
   "source": [
    "flight_summary.groupBy(\"origin_airport\")\\\n",
    "    .agg(F.count(\"count\").alias(\"count(count)\")\n",
    "        ,F.min(\"count\")\n",
    "        ,F.max(\"count\")\n",
    "        ,F.sum(\"count\")\n",
    "    ).orderBy(F.col(\"count(count)\").desc()).show(5, False)"
   ]
  },
  {
   "cell_type": "markdown",
   "metadata": {},
   "source": [
    "## Collection Group Values\n",
    "The collect_list(col) and collect_set(col) functions are useful to collect all\n",
    "the values of a particular group after the grouping is applied\n",
    "* The collection_list function returns a collection containing duplicate\n",
    "values\n",
    "* the collection_set function returns a collection containing unique values."
   ]
  },
  {
   "cell_type": "code",
   "execution_count": 92,
   "metadata": {},
   "outputs": [
    {
     "name": "stdout",
     "output_type": "stream",
     "text": [
      "+------------+--------------------+\n",
      "|origin_state|         dest_cities|\n",
      "+------------+--------------------+\n",
      "|          AZ|[Seattle, Denver,...|\n",
      "|          LA|           [Atlanta]|\n",
      "|          MN|   [Denver, Chicago]|\n",
      "|          VA|[Chicago, Boston,...|\n",
      "|          NV|[Denver, Los Ange...|\n",
      "+------------+--------------------+\n",
      "only showing top 5 rows\n",
      "\n"
     ]
    }
   ],
   "source": [
    "flight_summary.where(F.col(\"count\") > 5500)\\\n",
    ".groupBy(\"origin_state\")\\\n",
    ".agg(F.collect_list(\"dest_city\").alias(\"dest_cities\")).show(5)"
   ]
  },
  {
   "cell_type": "code",
   "execution_count": 95,
   "metadata": {},
   "outputs": [
    {
     "name": "stdout",
     "output_type": "stream",
     "text": [
      "+------------+--------------------+------------+\n",
      "|origin_state|         dest_cities|num_elements|\n",
      "+------------+--------------------+------------+\n",
      "|          CA|[Dallas-Fort Wort...|          23|\n",
      "|          GA|[New York, Chicag...|          12|\n",
      "|          IL|[Arlington, Bosto...|           9|\n",
      "|          CO|[Minneapolis, Las...|           7|\n",
      "|          NY|[San Francisco, M...|           6|\n",
      "+------------+--------------------+------------+\n",
      "only showing top 5 rows\n",
      "\n"
     ]
    }
   ],
   "source": [
    "flight_summary.where(F.col(\"count\") > 5500)\\\n",
    ".groupBy(\"origin_state\")\\\n",
    ".agg(F.collect_list(\"dest_city\").alias(\"dest_cities\"))\\\n",
    ".withColumn(\"num_elements\", F.size(\"dest_cities\"))\\\n",
    ".orderBy(F.col(\"num_elements\").desc())\\\n",
    ".show(5)"
   ]
  },
  {
   "cell_type": "markdown",
   "metadata": {},
   "source": [
    "## Aggregation with Pivoting\n",
    "> values are transposed from rows into individual columns. "
   ]
  },
  {
   "cell_type": "code",
   "execution_count": 97,
   "metadata": {},
   "outputs": [],
   "source": [
    "schema = \"`name` String, `gender` String, `weight` Int, `graduation_year` Int\"\n",
    "studentsDF = spark.createDataFrame([(\"John\", \"M\", 180, 2015),\\\n",
    "(\"Mary\", \"F\", 110, 2015),\\\n",
    "(\"Derek\", \"M\", 200, 2015),\\\n",
    "(\"Julie\", \"F\", 109, 2015),\\\n",
    "(\"Allison\", \"F\", 105, 2015),\\\n",
    "(\"kirby\", \"F\", 115, 2016),\\\n",
    "(\"Jeff\", \"M\", 195, 2016)], schema = schema)"
   ]
  },
  {
   "cell_type": "code",
   "execution_count": 98,
   "metadata": {},
   "outputs": [
    {
     "name": "stdout",
     "output_type": "stream",
     "text": [
      "root\n",
      " |-- name: string (nullable = true)\n",
      " |-- gender: string (nullable = true)\n",
      " |-- weight: integer (nullable = true)\n",
      " |-- graduation_year: integer (nullable = true)\n",
      "\n",
      "None\n",
      "+-------+------+------+---------------+\n",
      "|   name|gender|weight|graduation_year|\n",
      "+-------+------+------+---------------+\n",
      "|   John|     M|   180|           2015|\n",
      "|   Mary|     F|   110|           2015|\n",
      "|  Derek|     M|   200|           2015|\n",
      "|  Julie|     F|   109|           2015|\n",
      "|Allison|     F|   105|           2015|\n",
      "|  kirby|     F|   115|           2016|\n",
      "|   Jeff|     M|   195|           2016|\n",
      "+-------+------+------+---------------+\n",
      "\n"
     ]
    }
   ],
   "source": [
    "print(studentsDF.printSchema())\n",
    "\n",
    "studentsDF.show()"
   ]
  },
  {
   "cell_type": "markdown",
   "metadata": {},
   "source": [
    "simple one"
   ]
  },
  {
   "cell_type": "code",
   "execution_count": null,
   "metadata": {},
   "outputs": [],
   "source": [
    "studentsDF.groupBy(\"graduation_year\")\\\n",
    "    .pivot(\"gender\")\\\n",
    "    .avg(\"weight\").show()"
   ]
  },
  {
   "cell_type": "markdown",
   "metadata": {},
   "source": [
    "complex one"
   ]
  },
  {
   "cell_type": "code",
   "execution_count": 103,
   "metadata": {},
   "outputs": [
    {
     "name": "stdout",
     "output_type": "stream",
     "text": [
      "+---------------+-------------+-------------+-------------+-------------+\n",
      "|graduation_year|F_max(weight)|F_min(weight)|M_max(weight)|M_min(weight)|\n",
      "+---------------+-------------+-------------+-------------+-------------+\n",
      "|           2015|          110|          105|          200|          180|\n",
      "|           2016|          115|          115|          195|          195|\n",
      "+---------------+-------------+-------------+-------------+-------------+\n",
      "\n"
     ]
    }
   ],
   "source": [
    "studentsDF.groupBy(\"graduation_year\")\\\n",
    "    .pivot(\"gender\")\\\n",
    "    .agg(F.max(\"weight\"), F.min(\"weight\")).show()"
   ]
  },
  {
   "cell_type": "markdown",
   "metadata": {},
   "source": [
    ">  Selecting Values of Pivoting Column to Generate the Aggregations For"
   ]
  },
  {
   "cell_type": "markdown",
   "metadata": {},
   "source": [
    "This cannot be used on python, but you can filter first the df and then apply your agg\n",
    "> df.select(when(df['id'] == 2, 3).otherwise(4).alias(\"age\")).show()"
   ]
  },
  {
   "cell_type": "code",
   "execution_count": 109,
   "metadata": {},
   "outputs": [
    {
     "name": "stdout",
     "output_type": "stream",
     "text": [
      "+---------------+---+\n",
      "|graduation_year|  M|\n",
      "+---------------+---+\n",
      "|           2015|180|\n",
      "|           2016|195|\n",
      "+---------------+---+\n",
      "\n"
     ]
    }
   ],
   "source": [
    "from pyspark.sql import functions as F\n",
    "\n",
    "# Filter the DataFrame to include only male students\n",
    "male_studentsDF = studentsDF.filter(studentsDF[\"gender\"] == \"M\")\n",
    "\n",
    "# Perform the groupBy, pivot, and aggregation\n",
    "result = male_studentsDF.groupBy(\"graduation_year\") \\\n",
    "                        .pivot(\"gender\") \\\n",
    "                        .agg(F.min(\"weight\").alias(\"min\"))\n",
    "\n",
    "# Show the result\n",
    "result.show()\n"
   ]
  }
 ],
 "metadata": {
  "kernelspec": {
   "display_name": "base",
   "language": "python",
   "name": "python3"
  },
  "language_info": {
   "codemirror_mode": {
    "name": "ipython",
    "version": 3
   },
   "file_extension": ".py",
   "mimetype": "text/x-python",
   "name": "python",
   "nbconvert_exporter": "python",
   "pygments_lexer": "ipython3",
   "version": "3.11.7"
  }
 },
 "nbformat": 4,
 "nbformat_minor": 2
}
