{
 "cells": [
  {
   "cell_type": "markdown",
   "metadata": {},
   "source": [
    "# Advanced Analytics Functions"
   ]
  },
  {
   "cell_type": "markdown",
   "metadata": {},
   "source": [
    "*  multidimensional aggregations: Calculating subtotals and totals across a set of grouping\n",
    "columns is commonly needed. \n",
    "* performing aggregations based on time windows, which is useful when working with time-series\n",
    "*  perform aggregations within a logical grouping of rows, referred to as a window. "
   ]
  },
  {
   "cell_type": "code",
   "execution_count": 1,
   "metadata": {},
   "outputs": [
    {
     "name": "stderr",
     "output_type": "stream",
     "text": [
      "24/05/24 17:19:40 WARN Utils: Your hostname, msi-MAG resolves to a loopback address: 127.0.1.1; using 192.168.0.129 instead (on interface wlp3s0)\n",
      "24/05/24 17:19:40 WARN Utils: Set SPARK_LOCAL_IP if you need to bind to another address\n",
      "Setting default log level to \"WARN\".\n",
      "To adjust logging level use sc.setLogLevel(newLevel). For SparkR, use setLogLevel(newLevel).\n",
      "24/05/24 17:19:40 WARN NativeCodeLoader: Unable to load native-hadoop library for your platform... using builtin-java classes where applicable\n"
     ]
    }
   ],
   "source": [
    "from pyspark.sql import SparkSession\n",
    "import os\n",
    "import pyspark.sql.functions as F\n",
    "\n",
    "spark = SparkSession.builder.appName(\"SQL\").getOrCreate()"
   ]
  },
  {
   "cell_type": "code",
   "execution_count": 2,
   "metadata": {},
   "outputs": [
    {
     "data": {
      "text/plain": [
       "'/home/msi/beginning-apache-spark-3/chapter4/data/flights/flight-summary.csv'"
      ]
     },
     "execution_count": 2,
     "metadata": {},
     "output_type": "execute_result"
    }
   ],
   "source": [
    "path = \"/home/msi/beginning-apache-spark-3/chapter4/data/flights\"\n",
    "path = os.path.join(path,\"flight-summary.csv\")\n",
    "path"
   ]
  },
  {
   "cell_type": "code",
   "execution_count": 4,
   "metadata": {},
   "outputs": [
    {
     "name": "stdout",
     "output_type": "stream",
     "text": [
      "+-----------+------------------------------------------------+------------+------------+---------+--------------------------------------------+----------------+----------+-----+\n",
      "|origin_code|origin_airport                                  |origin_city |origin_state|dest_code|dest_airport                                |dest_city       |dest_state|count|\n",
      "+-----------+------------------------------------------------+------------+------------+---------+--------------------------------------------+----------------+----------+-----+\n",
      "|BQN        |Rafael Hernández Airport                        |Aguadilla   |PR          |MCO      |Orlando International Airport               |Orlando         |FL        |441  |\n",
      "|PHL        |Philadelphia International Airport              |Philadelphia|PA          |MCO      |Orlando International Airport               |Orlando         |FL        |4869 |\n",
      "|MCI        |Kansas City International Airport               |Kansas City |MO          |IAH      |George Bush Intercontinental Airport        |Houston         |TX        |1698 |\n",
      "|SPI        |Abraham Lincoln Capital Airport                 |Springfield |IL          |ORD      |Chicago O'Hare International Airport        |Chicago         |IL        |998  |\n",
      "|SNA        |John Wayne Airport (Orange County Airport)      |Santa Ana   |CA          |PHX      |Phoenix Sky Harbor International Airport    |Phoenix         |AZ        |3846 |\n",
      "|LBB        |Lubbock Preston Smith International Airport     |Lubbock     |TX          |DEN      |Denver International Airport                |Denver          |CO        |618  |\n",
      "|ORD        |Chicago O'Hare International Airport            |Chicago     |IL          |PDX      |Portland International Airport              |Portland        |OR        |2149 |\n",
      "|EWR        |Newark Liberty International Airport            |Newark      |NJ          |STT      |Cyril E. King Airport                       |Charlotte Amalie|VI        |239  |\n",
      "|ATL        |Hartsfield-Jackson Atlanta International Airport|Atlanta     |GA          |GSP      |Greenville-Spartanburg International Airport|Greer           |SC        |2470 |\n",
      "|MCI        |Kansas City International Airport               |Kansas City |MO          |MKE      |General Mitchell International Airport      |Milwaukee       |WI        |612  |\n",
      "+-----------+------------------------------------------------+------------+------------+---------+--------------------------------------------+----------------+----------+-----+\n",
      "only showing top 10 rows\n",
      "\n"
     ]
    }
   ],
   "source": [
    "flight_summary =  spark.read.format(\"csv\")\\\n",
    "    .option(\"header\", \"true\")\\\n",
    "    .option(\"inferSchema\",\"true\")\\\n",
    "    .load(path)\n",
    "\n",
    "flight_summary.show(10, False)"
   ]
  },
  {
   "cell_type": "markdown",
   "metadata": {},
   "source": [
    "Filter data"
   ]
  },
  {
   "cell_type": "code",
   "execution_count": 5,
   "metadata": {},
   "outputs": [],
   "source": [
    "twoStatesSummary = flight_summary\\\n",
    "    .select(\"origin_state\",\"origin_city\",\"count\")\\\n",
    "    .where((F.col(\"origin_state\") == \"CA\" ) | (F.col(\"origin_state\") == \"NY\"))\\\n",
    "    .where((F.col(\"count\") > 1) & (F.col(\"count\") < 20))\\\n",
    "    .where(F.col(\"origin_city\") != \"White Plains\")\\\n",
    "    .where(F.col(\"origin_city\") != \"Newburgh\")\\\n",
    "    .where(F.col(\"origin_city\") != \"Mammoth Lakes\")\\\n",
    "    .where(F.col(\"origin_city\") != \"Ontario\")"
   ]
  },
  {
   "cell_type": "code",
   "execution_count": 7,
   "metadata": {},
   "outputs": [
    {
     "name": "stdout",
     "output_type": "stream",
     "text": [
      "root\n",
      " |-- origin_state: string (nullable = true)\n",
      " |-- origin_city: string (nullable = true)\n",
      " |-- count: integer (nullable = true)\n",
      "\n",
      "None\n",
      "+------------+-------------+-----+\n",
      "|origin_state|  origin_city|count|\n",
      "+------------+-------------+-----+\n",
      "|          NY|     New York|    4|\n",
      "|          NY|       Elmira|   15|\n",
      "|          CA|    San Diego|   18|\n",
      "|          CA|San Francisco|   14|\n",
      "|          NY|     New York|    2|\n",
      "|          NY|       Albany|    5|\n",
      "|          CA|San Francisco|    2|\n",
      "|          NY|       Albany|    3|\n",
      "|          NY|       Albany|    9|\n",
      "|          NY|     New York|    4|\n",
      "|          CA|San Francisco|    5|\n",
      "|          CA|    San Diego|    4|\n",
      "|          NY|     New York|   10|\n",
      "+------------+-------------+-----+\n",
      "\n"
     ]
    }
   ],
   "source": [
    "print(twoStatesSummary.printSchema())\n",
    "twoStatesSummary.show()"
   ]
  },
  {
   "attachments": {
    "image.png": {
     "image/png": "[encoded data removed]"
    }
   },
   "cell_type": "markdown",
   "metadata": {},
   "source": [
    "ROLL UP extends GROUP BY\n",
    "![image.png](attachment:image.png)"
   ]
  },
  {
   "cell_type": "markdown",
   "metadata": {},
   "source": [
    "## RollUp\n",
    "apply group by + the intermediary aggregations (subtotals displayed in NULL row)"
   ]
  },
  {
   "cell_type": "code",
   "execution_count": 12,
   "metadata": {},
   "outputs": [
    {
     "name": "stdout",
     "output_type": "stream",
     "text": [
      "+------------+-------------+-----+\n",
      "|origin_state|  origin_city|total|\n",
      "+------------+-------------+-----+\n",
      "|          NY|     New York|   20|\n",
      "|          NY|       Elmira|   15|\n",
      "|          NY|       Albany|   17|\n",
      "|          NY|         null|   52|\n",
      "|          CA|San Francisco|   21|\n",
      "|          CA|    San Diego|   22|\n",
      "|          CA|         null|   43|\n",
      "|        null|         null|   95|\n",
      "+------------+-------------+-----+\n",
      "\n"
     ]
    }
   ],
   "source": [
    "twoStatesSummary.rollup(\"origin_state\", \"origin_city\").agg(F.sum(\"count\").alias(\"total\"))\\\n",
    ".orderBy(F.col(\"origin_state\").desc_nulls_last(),\n",
    "         F.col(\"origin_city\").desc_nulls_last()).show()"
   ]
  },
  {
   "cell_type": "markdown",
   "metadata": {},
   "source": [
    "> **Look very well** <br>\n",
    "> see those NULL columns? those are the agg of the above values. Ex: \n",
    "> * 20 + 15 + 17 = 52  "
   ]
  },
  {
   "cell_type": "markdown",
   "metadata": {},
   "source": [
    "> This output shows the subtotals per state on the third and seventh lines. The last line\n",
    "shows the total with a null value in both the original_state and origin_city columns."
   ]
  },
  {
   "cell_type": "markdown",
   "metadata": {},
   "source": [
    "## Cubes\n",
    "A cube is a more advanced version of a rollup. It performs the aggregations across all\n",
    "the combinations of the grouping columns. Therefore, the result includes what a rollup\n",
    "provides, as well as other combinations."
   ]
  },
  {
   "cell_type": "code",
   "execution_count": 13,
   "metadata": {},
   "outputs": [
    {
     "name": "stdout",
     "output_type": "stream",
     "text": [
      "+------------+-------------+-----+\n",
      "|origin_state|  origin_city|total|\n",
      "+------------+-------------+-----+\n",
      "|          NY|     New York|   20|\n",
      "|          NY|       Elmira|   15|\n",
      "|          NY|       Albany|   17|\n",
      "|          NY|         null|   52|\n",
      "|          CA|San Francisco|   21|\n",
      "|          CA|    San Diego|   22|\n",
      "|          CA|         null|   43|\n",
      "|        null|San Francisco|   21|\n",
      "|        null|    San Diego|   22|\n",
      "|        null|     New York|   20|\n",
      "|        null|       Elmira|   15|\n",
      "|        null|       Albany|   17|\n",
      "|        null|         null|   95|\n",
      "+------------+-------------+-----+\n",
      "\n"
     ]
    }
   ],
   "source": [
    "# perform the cube across origin_state and origin_city\n",
    "twoStatesSummary.cube(\"origin_state\", \"origin_city\").agg(F.sum(\"count\").alias(\"total\"))\\\n",
    ".orderBy(F.col(\"origin_state\").desc_nulls_last(),\n",
    "         F.col(\"origin_city\").desc_nulls_last()).show()"
   ]
  },
  {
   "cell_type": "markdown",
   "metadata": {},
   "source": [
    "the lines with a null value in the origin_state column represent an\n",
    "aggregation of all the cities in a state."
   ]
  },
  {
   "cell_type": "markdown",
   "metadata": {},
   "source": [
    "# Aggregation with Time Windows"
   ]
  },
  {
   "cell_type": "markdown",
   "metadata": {},
   "source": [
    "Window functions come in a few versions, but they all require a timestamp type\n",
    "column and a window length, specified in seconds, minutes, hours, days, or weeks."
   ]
  },
  {
   "cell_type": "code",
   "execution_count": 16,
   "metadata": {},
   "outputs": [
    {
     "data": {
      "text/plain": [
       "'/home/msi/beginning-apache-spark-3/chapter4/data/stocks/aapl-2017.csv'"
      ]
     },
     "execution_count": 16,
     "metadata": {},
     "output_type": "execute_result"
    }
   ],
   "source": [
    "path = \"/home/msi/beginning-apache-spark-3/chapter4/data/stocks\"\n",
    "path = os.path.join(path,\"aapl-2017.csv\")\n",
    "path"
   ]
  },
  {
   "cell_type": "code",
   "execution_count": 17,
   "metadata": {},
   "outputs": [],
   "source": [
    "appleOneYearDF = spark.read.format(\"csv\")\\\n",
    ".option(\"header\", \"true\")\\\n",
    ".option(\"inferSchema\",\"true\")\\\n",
    ".load(path)"
   ]
  },
  {
   "cell_type": "code",
   "execution_count": 18,
   "metadata": {},
   "outputs": [
    {
     "name": "stdout",
     "output_type": "stream",
     "text": [
      "root\n",
      " |-- Date: date (nullable = true)\n",
      " |-- Open: double (nullable = true)\n",
      " |-- High: double (nullable = true)\n",
      " |-- Low: double (nullable = true)\n",
      " |-- Close: double (nullable = true)\n",
      " |-- Adj Close: double (nullable = true)\n",
      " |-- Volume: integer (nullable = true)\n",
      "\n",
      "None\n",
      "+----------+----------+----------+----------+----------+----------+--------+\n",
      "|      Date|      Open|      High|       Low|     Close| Adj Close|  Volume|\n",
      "+----------+----------+----------+----------+----------+----------+--------+\n",
      "|2017-01-03|115.800003|116.330002|114.760002|116.150002| 114.31176|28781900|\n",
      "|2017-01-04|115.849998|116.510002|    115.75|116.019997|114.183815|21118100|\n",
      "|2017-01-05|115.919998|116.860001|115.809998|116.610001|114.764473|22193600|\n",
      "|2017-01-06|116.779999|118.160004|116.470001|117.910004|116.043915|31751900|\n",
      "|2017-01-09|117.949997|    119.43|117.940002|118.989998|117.106812|33561900|\n",
      "|2017-01-10|118.769997|119.379997|118.300003|119.110001|117.224907|24462100|\n",
      "|2017-01-11|118.739998|    119.93|118.599998|    119.75|117.854782|27588600|\n",
      "|2017-01-12|118.900002|119.300003|118.209999|    119.25|117.362694|27086200|\n",
      "|2017-01-13|119.110001|119.620003|118.809998|119.040001|117.156021|26111900|\n",
      "|2017-01-17|118.339996|120.239998|118.220001|     120.0|118.100822|34439800|\n",
      "+----------+----------+----------+----------+----------+----------+--------+\n",
      "only showing top 10 rows\n",
      "\n"
     ]
    }
   ],
   "source": [
    "print(appleOneYearDF.printSchema())\n",
    "appleOneYearDF.show(10)"
   ]
  },
  {
   "cell_type": "markdown",
   "metadata": {},
   "source": [
    "Fix Window"
   ]
  },
  {
   "cell_type": "code",
   "execution_count": 21,
   "metadata": {},
   "outputs": [
    {
     "name": "stdout",
     "output_type": "stream",
     "text": [
      "+------------------------------------------+------------------+\n",
      "|window                                    |weekly_avg        |\n",
      "+------------------------------------------+------------------+\n",
      "|{2017-03-16 01:00:00, 2017-03-23 01:00:00}|140.7260008       |\n",
      "|{2017-10-19 02:00:00, 2017-10-26 02:00:00}|156.66800239999998|\n",
      "|{2017-09-07 02:00:00, 2017-09-14 02:00:00}|159.7839998       |\n",
      "|{2017-01-12 01:00:00, 2017-01-19 01:00:00}|119.70249950000002|\n",
      "|{2017-12-21 01:00:00, 2017-12-28 01:00:00}|171.81500250000002|\n",
      "|{2017-04-20 02:00:00, 2017-04-27 02:00:00}|143.58199759999997|\n",
      "|{2017-07-27 02:00:00, 2017-08-03 02:00:00}|152.19800100000003|\n",
      "|{2017-08-03 02:00:00, 2017-08-10 02:00:00}|158.3320008       |\n",
      "|{2017-08-17 02:00:00, 2017-08-24 02:00:00}|158.7480012       |\n",
      "|{2017-04-06 02:00:00, 2017-04-13 02:00:00}|142.19800100000003|\n",
      "+------------------------------------------+------------------+\n",
      "only showing top 10 rows\n",
      "\n"
     ]
    }
   ],
   "source": [
    "# calculate the weekly average price using window function inside the groupBy transformation\n",
    "# this is an example of the tumbling window, aka fixed window\n",
    "appleWeeklyAvgDF = appleOneYearDF.\\\n",
    "    groupBy(F.window(\"Date\", \"1 week\")).\\\n",
    "    agg(F.avg(\"Close\").alias(\"weekly_avg\"))\n",
    "appleWeeklyAvgDF.show(10, truncate=False)"
   ]
  },
  {
   "cell_type": "markdown",
   "metadata": {},
   "source": [
    "look in the schema the window col"
   ]
  },
  {
   "cell_type": "code",
   "execution_count": 23,
   "metadata": {},
   "outputs": [
    {
     "name": "stdout",
     "output_type": "stream",
     "text": [
      "root\n",
      " |-- window: struct (nullable = false)\n",
      " |    |-- start: timestamp (nullable = true)\n",
      " |    |-- end: timestamp (nullable = true)\n",
      " |-- weekly_avg: double (nullable = true)\n",
      "\n"
     ]
    }
   ],
   "source": [
    "appleWeeklyAvgDF.printSchema()"
   ]
  },
  {
   "cell_type": "markdown",
   "metadata": {},
   "source": [
    "order by"
   ]
  },
  {
   "cell_type": "code",
   "execution_count": 24,
   "metadata": {},
   "outputs": [
    {
     "name": "stdout",
     "output_type": "stream",
     "text": [
      "+-------------------+-------------------+----------+\n",
      "|              start|                end|weekly_avg|\n",
      "+-------------------+-------------------+----------+\n",
      "|2016-12-29 01:00:00|2017-01-05 01:00:00|    116.26|\n",
      "|2017-01-05 01:00:00|2017-01-12 01:00:00|     119.0|\n",
      "|2017-01-12 01:00:00|2017-01-19 01:00:00|     119.7|\n",
      "|2017-01-19 01:00:00|2017-01-26 01:00:00|    120.77|\n",
      "|2017-01-26 01:00:00|2017-02-02 01:00:00|    124.44|\n",
      "+-------------------+-------------------+----------+\n",
      "only showing top 5 rows\n",
      "\n"
     ]
    }
   ],
   "source": [
    "# display the result with ordering by start time and\n",
    "# round up to 2 decimal points\n",
    "appleWeeklyAvgDF.orderBy(\"window.start\")\\\n",
    "    .selectExpr(\"window.start\",\"window.end\",\n",
    "                \"round(weekly_avg, 2) as weekly_avg\").show(5)"
   ]
  },
  {
   "cell_type": "markdown",
   "metadata": {},
   "source": [
    "> Use the Time Window Function to Calculate the Monthly Average\n",
    "Closing Price of Apple Stock\n",
    "> * look at the 2 subleves, 4 weeks window length and slide by one week each time"
   ]
  },
  {
   "cell_type": "markdown",
   "metadata": {},
   "source": [
    "* **Slide Duration (\"1 week\"):** This specifies how often a new window starts. Here, a new window starts every 1 week (7 days). <br>\n",
    "\n",
    "| Window  | Duration         |\n",
    "|---------|------------------|\n",
    "| Window 1| [Jan 1 - Jan 28] |\n",
    "| Window 2| [Jan 8 - Feb 4]  |\n",
    "| Window 3| [Jan 15 - Feb 11]|\n",
    "| Window 4| [Jan 22 - Feb 18]|\n",
    "| ...     | ...              |\n"
   ]
  },
  {
   "cell_type": "code",
   "execution_count": 27,
   "metadata": {},
   "outputs": [
    {
     "name": "stdout",
     "output_type": "stream",
     "text": [
      "root\n",
      " |-- window: struct (nullable = true)\n",
      " |    |-- start: timestamp (nullable = true)\n",
      " |    |-- end: timestamp (nullable = true)\n",
      " |-- monthly_avg: double (nullable = true)\n",
      "\n",
      "None\n",
      "+------------------------------------------+------------------+\n",
      "|window                                    |monthly_avg       |\n",
      "+------------------------------------------+------------------+\n",
      "|{2017-06-01 02:00:00, 2017-06-29 02:00:00}|147.7544983       |\n",
      "|{2017-01-19 01:00:00, 2017-02-16 01:00:00}|127.63649855000001|\n",
      "|{2017-03-02 01:00:00, 2017-03-30 02:00:00}|140.59000005000001|\n",
      "|{2017-06-29 02:00:00, 2017-07-27 02:00:00}|147.98842094736844|\n",
      "|{2016-12-15 01:00:00, 2017-01-12 01:00:00}|117.97375037500001|\n",
      "|{2017-02-09 01:00:00, 2017-03-09 01:00:00}|136.99999921052634|\n",
      "|{2017-10-26 02:00:00, 2017-11-23 01:00:00}|171.3621054736842 |\n",
      "|{2017-02-16 01:00:00, 2017-03-16 01:00:00}|138.43105273684213|\n",
      "|{2017-07-13 02:00:00, 2017-08-10 02:00:00}|153.0905006       |\n",
      "|{2017-06-22 02:00:00, 2017-07-20 02:00:00}|146.21052552631582|\n",
      "+------------------------------------------+------------------+\n",
      "only showing top 10 rows\n",
      "\n"
     ]
    }
   ],
   "source": [
    "appleMonthlyAvgDF = appleOneYearDF.\\\n",
    "    groupBy(F.window(\"Date\", \"4 week\", \"1 week\")).\\\n",
    "    agg(F.avg(\"Close\").alias(\"monthly_avg\"))\n",
    "\n",
    "print(appleMonthlyAvgDF.printSchema())\n",
    "appleMonthlyAvgDF.show(10, truncate=False)"
   ]
  },
  {
   "cell_type": "code",
   "execution_count": 28,
   "metadata": {},
   "outputs": [
    {
     "name": "stdout",
     "output_type": "stream",
     "text": [
      "+-------------------+-------------------+-----------+\n",
      "|              start|                end|monthly_avg|\n",
      "+-------------------+-------------------+-----------+\n",
      "|2016-12-08 01:00:00|2017-01-05 01:00:00|     116.26|\n",
      "|2016-12-15 01:00:00|2017-01-12 01:00:00|     117.97|\n",
      "|2016-12-22 01:00:00|2017-01-19 01:00:00|     118.55|\n",
      "|2016-12-29 01:00:00|2017-01-26 01:00:00|      119.2|\n",
      "|2017-01-05 01:00:00|2017-02-02 01:00:00|     121.05|\n",
      "+-------------------+-------------------+-----------+\n",
      "only showing top 5 rows\n",
      "\n"
     ]
    }
   ],
   "source": [
    "appleMonthlyAvgDF.orderBy(\"window.start\")\\\n",
    "    .selectExpr(\"window.start\",\"window.end\",\n",
    "                \"round(monthly_avg, 2) as monthly_avg\").show(5)"
   ]
  },
  {
   "cell_type": "markdown",
   "metadata": {},
   "source": [
    "> Since the sliding window interval is one week, \n",
    "the start time difference between two consecutive rows is one week apart. "
   ]
  },
  {
   "cell_type": "markdown",
   "metadata": {},
   "source": [
    "# Window Functions"
   ]
  },
  {
   "cell_type": "markdown",
   "metadata": {},
   "source": [
    "### Ranking Functions\n",
    "\n",
    "| Name         | Description                                                                                                    |\n",
    "|--------------|----------------------------------------------------------------------------------------------------------------|\n",
    "| rank         | Returns the rank or order of rows within a frame based on some sorting order.                                   |\n",
    "| dense_rank   | Similar to rank, but leaves no gaps in the ranks when there are ties.                                           |\n",
    "| percen_rank  | Returns the relative rank of rows within a frame.                                                              |\n",
    "| ntile(n)     | Returns the ntile group ID in an ordered window partition. For example, if n is 4, the first quarter of the rows get a value of 1, the second quarter of rows get a value of 2, and so on. |\n",
    "| row_number   | Returns a sequential number starting with 1 within a frame.                                                      |\n"
   ]
  },
  {
   "cell_type": "markdown",
   "metadata": {},
   "source": [
    "### Analytic Functions\n",
    "\n",
    "| Name           | Description                                                                                                                     |\n",
    "|----------------|---------------------------------------------------------------------------------------------------------------------------------|\n",
    "| cume_dist      | Returns the cumulative distribution of values within a frame. In other words, it calculates the fraction of rows that are below the current row. |\n",
    "| lag(col, offset) | Returns the value of the column that is offset rows before the current row.                                                   |\n",
    "| lead(col, offset) | Returns the value of the column that is offset rows after the current row.                                                     |\n"
   ]
  },
  {
   "cell_type": "code",
   "execution_count": 30,
   "metadata": {},
   "outputs": [],
   "source": [
    "txDataDF = spark.createDataFrame([(\"John\", \"2017-07-02\", 13.35),\n",
    "(\"John\", \"2017-07-06\", 27.33),\n",
    "(\"John\", \"2017-07-04\", 21.72),\n",
    "(\"Mary\", \"2017-07-07\", 69.74),\n",
    "(\"Mary\", \"2017-07-01\", 59.44),\n",
    "(\"Mary\", \"2017-07-05\", 80.14)] ,[\"name\", \"tx_date\", \"amount\"])"
   ]
  },
  {
   "cell_type": "code",
   "execution_count": 31,
   "metadata": {},
   "outputs": [
    {
     "name": "stdout",
     "output_type": "stream",
     "text": [
      "+----+----------+------+\n",
      "|name|   tx_date|amount|\n",
      "+----+----------+------+\n",
      "|John|2017-07-02| 13.35|\n",
      "|John|2017-07-06| 27.33|\n",
      "|John|2017-07-04| 21.72|\n",
      "|Mary|2017-07-07| 69.74|\n",
      "|Mary|2017-07-01| 59.44|\n",
      "|Mary|2017-07-05| 80.14|\n",
      "+----+----------+------+\n",
      "\n"
     ]
    }
   ],
   "source": [
    "txDataDF.show()"
   ]
  },
  {
   "cell_type": "code",
   "execution_count": 35,
   "metadata": {},
   "outputs": [],
   "source": [
    "from pyspark.sql.window import Window"
   ]
  },
  {
   "cell_type": "markdown",
   "metadata": {},
   "source": [
    "partitionBy (defined on the windows before applying)"
   ]
  },
  {
   "cell_type": "code",
   "execution_count": 36,
   "metadata": {},
   "outputs": [],
   "source": [
    "forRankingWindow = Window.partitionBy(\"name\").orderBy(F.col(\"amount\").desc())"
   ]
  },
  {
   "cell_type": "code",
   "execution_count": 38,
   "metadata": {},
   "outputs": [
    {
     "name": "stdout",
     "output_type": "stream",
     "text": [
      "+----+----------+------+----+\n",
      "|name|   tx_date|amount|rank|\n",
      "+----+----------+------+----+\n",
      "|John|2017-07-06| 27.33|   1|\n",
      "|John|2017-07-04| 21.72|   2|\n",
      "|John|2017-07-02| 13.35|   3|\n",
      "|Mary|2017-07-05| 80.14|   1|\n",
      "|Mary|2017-07-07| 69.74|   2|\n",
      "|Mary|2017-07-01| 59.44|   3|\n",
      "+----+----------+------+----+\n",
      "\n"
     ]
    }
   ],
   "source": [
    "txDataWithRankDF = txDataDF.withColumn(\"rank\", F.rank().over(forRankingWindow))\n",
    "txDataWithRankDF.show()"
   ]
  },
  {
   "cell_type": "markdown",
   "metadata": {},
   "source": [
    "> Applying the max Window Function to Find the Difference of Each\n",
    "Row and the Highest Amount"
   ]
  },
  {
   "cell_type": "markdown",
   "metadata": {},
   "source": [
    "In addition to partitioning\n",
    "by the username, it needs to define a frame boundary that includes all the rows in\n",
    "each partition. To do that, you use the `Window.rangeBetween` function with `Window.unboundedPreceding` as the start value and `Window.unboundedFollowing` as the end\n",
    "value. "
   ]
  },
  {
   "cell_type": "code",
   "execution_count": 46,
   "metadata": {},
   "outputs": [],
   "source": [
    "# Step 1 - Operation Window\n",
    "forEntireRangeWindow = Window.partitionBy(\"name\").orderBy(\n",
    "    F.col(\"amount\").desc()).rangeBetween(Window.unboundedPreceding, Window.unboundedFollowing)\n"
   ]
  },
  {
   "cell_type": "code",
   "execution_count": 47,
   "metadata": {},
   "outputs": [],
   "source": [
    "# Step 2 - Operation MAX (of the window) - this col\n",
    "amount_difference = F.max(\"amount\").over(forEntireRangeWindow) - F.col(\"amount\")"
   ]
  },
  {
   "cell_type": "code",
   "execution_count": 49,
   "metadata": {},
   "outputs": [
    {
     "name": "stdout",
     "output_type": "stream",
     "text": [
      "+----+----------+------+-----------------+\n",
      "|name|   tx_date|amount|amount_difference|\n",
      "+----+----------+------+-----------------+\n",
      "|John|2017-07-06| 27.33|              0.0|\n",
      "|John|2017-07-04| 21.72|             5.61|\n",
      "|John|2017-07-02| 13.35|            13.98|\n",
      "|Mary|2017-07-05| 80.14|              0.0|\n",
      "|Mary|2017-07-07| 69.74|             10.4|\n",
      "|Mary|2017-07-01| 59.44|             20.7|\n",
      "+----+----------+------+-----------------+\n",
      "\n"
     ]
    }
   ],
   "source": [
    "# Step 3 - apply it to the logic\n",
    "txDataDF.withColumn(\"amount_difference\", F.round(amount_difference,3)).show()"
   ]
  },
  {
   "cell_type": "markdown",
   "metadata": {},
   "source": [
    "> Applying the Average Window Function to Compute the Moving\n",
    "Average Transaction Amount"
   ]
  },
  {
   "cell_type": "code",
   "execution_count": 50,
   "metadata": {},
   "outputs": [],
   "source": [
    "# Step 1 - define the window\n",
    "forMovingAvgWindow = Window.partitionBy(\"name\").orderBy(\"tx_date\").rowsBetween(Window.currentRow-1,Window.currentRow+1)"
   ]
  },
  {
   "cell_type": "code",
   "execution_count": 51,
   "metadata": {},
   "outputs": [],
   "source": [
    "# Step 2 - define the operation over the window\n",
    "txMovingAvg = F.avg(\"amount\").over(forMovingAvgWindow)"
   ]
  },
  {
   "cell_type": "code",
   "execution_count": 52,
   "metadata": {},
   "outputs": [
    {
     "name": "stdout",
     "output_type": "stream",
     "text": [
      "+----+----------+------+----------+\n",
      "|name|   tx_date|amount|moving_avg|\n",
      "+----+----------+------+----------+\n",
      "|John|2017-07-02| 13.35|    17.535|\n",
      "|John|2017-07-04| 21.72|      20.8|\n",
      "|John|2017-07-06| 27.33|    24.525|\n",
      "|Mary|2017-07-01| 59.44|     69.79|\n",
      "|Mary|2017-07-05| 80.14|    69.773|\n",
      "|Mary|2017-07-07| 69.74|     74.94|\n",
      "+----+----------+------+----------+\n",
      "\n"
     ]
    }
   ],
   "source": [
    "# Step 3 - apply it to the DF\n",
    "txDataDF.withColumn(\"moving_avg\", F.round(txMovingAvg,3)).show()\n"
   ]
  },
  {
   "cell_type": "markdown",
   "metadata": {},
   "source": [
    "First Row"
   ]
  },
  {
   "cell_type": "code",
   "execution_count": 53,
   "metadata": {},
   "outputs": [
    {
     "data": {
      "text/plain": [
       "17.535"
      ]
     },
     "execution_count": 53,
     "metadata": {},
     "output_type": "execute_result"
    }
   ],
   "source": [
    "(13.35 + 21.72) / 2 "
   ]
  },
  {
   "cell_type": "markdown",
   "metadata": {},
   "source": [
    "second row"
   ]
  },
  {
   "cell_type": "code",
   "execution_count": 54,
   "metadata": {},
   "outputs": [
    {
     "data": {
      "text/plain": [
       "20.8"
      ]
     },
     "execution_count": 54,
     "metadata": {},
     "output_type": "execute_result"
    }
   ],
   "source": [
    "(13.35 + 21.72 + 27.33) / 3 "
   ]
  },
  {
   "cell_type": "markdown",
   "metadata": {},
   "source": [
    "third row NEW WINDOW (Mary)"
   ]
  },
  {
   "cell_type": "markdown",
   "metadata": {},
   "source": [
    "> Applying the sum Window Function to Compute the Cumulative\n",
    "Sum of Transaction Amount"
   ]
  },
  {
   "cell_type": "code",
   "execution_count": 56,
   "metadata": {},
   "outputs": [],
   "source": [
    "# Step 1 - define de window\n",
    "forCumulativeSumWindow = Window.partitionBy(\"name\").orderBy(\"tx_date\")\\\n",
    "    .rowsBetween(Window.unboundedPreceding,Window.currentRow)"
   ]
  },
  {
   "cell_type": "markdown",
   "metadata": {},
   "source": [
    "`Window.unboundedPreceding` represents an unbounded window boundary that goes all the way back to the beginning of the partition\n",
    "* Unbounded Preceding: When used as the lower bound of a window frame, it means that the window frame starts from the first row of the partition."
   ]
  },
  {
   "cell_type": "code",
   "execution_count": 57,
   "metadata": {},
   "outputs": [],
   "source": [
    "# Step2 - define the operation\n",
    "txCumulativeSum = F.sum(\"amount\").over(forCumulativeSumWindow)"
   ]
  },
  {
   "cell_type": "code",
   "execution_count": 58,
   "metadata": {},
   "outputs": [
    {
     "name": "stdout",
     "output_type": "stream",
     "text": [
      "+----+----------+------+-------------+\n",
      "|name|   tx_date|amount|CumulativeSum|\n",
      "+----+----------+------+-------------+\n",
      "|John|2017-07-02| 13.35|        13.35|\n",
      "|John|2017-07-04| 21.72|        35.07|\n",
      "|John|2017-07-06| 27.33|         62.4|\n",
      "|Mary|2017-07-01| 59.44|        59.44|\n",
      "|Mary|2017-07-05| 80.14|       139.58|\n",
      "|Mary|2017-07-07| 69.74|       209.32|\n",
      "+----+----------+------+-------------+\n",
      "\n"
     ]
    }
   ],
   "source": [
    "# Step3 - apply to DF\n",
    "txDataDF.withColumn(\"CumulativeSum\", F.round(txCumulativeSum,3)).show()\n"
   ]
  },
  {
   "cell_type": "code",
   "execution_count": 60,
   "metadata": {},
   "outputs": [
    {
     "data": {
      "text/plain": [
       "13.35"
      ]
     },
     "execution_count": 60,
     "metadata": {},
     "output_type": "execute_result"
    }
   ],
   "source": [
    "13.35"
   ]
  },
  {
   "cell_type": "code",
   "execution_count": 59,
   "metadata": {},
   "outputs": [
    {
     "data": {
      "text/plain": [
       "35.07"
      ]
     },
     "execution_count": 59,
     "metadata": {},
     "output_type": "execute_result"
    }
   ],
   "source": [
    "13.35 + 21.72"
   ]
  },
  {
   "cell_type": "code",
   "execution_count": 61,
   "metadata": {},
   "outputs": [
    {
     "data": {
      "text/plain": [
       "62.4"
      ]
     },
     "execution_count": 61,
     "metadata": {},
     "output_type": "execute_result"
    }
   ],
   "source": [
    "13.35 + 21.72 + 27.33"
   ]
  },
  {
   "cell_type": "markdown",
   "metadata": {},
   "source": [
    "## Inside SQL"
   ]
  },
  {
   "cell_type": "code",
   "execution_count": 62,
   "metadata": {},
   "outputs": [],
   "source": [
    "# register the txDataDF as a temporary view called tx_data\n",
    "txDataDF.createOrReplaceTempView(\"tx_data\")"
   ]
  },
  {
   "cell_type": "code",
   "execution_count": 66,
   "metadata": {},
   "outputs": [
    {
     "name": "stdout",
     "output_type": "stream",
     "text": [
      "+----+----------+------+----+\n",
      "|name|   tx_date|amount|rank|\n",
      "+----+----------+------+----+\n",
      "|John|2017-07-06| 27.33|   1|\n",
      "|John|2017-07-04| 21.72|   2|\n",
      "|John|2017-07-02| 13.35|   3|\n",
      "|Mary|2017-07-05| 80.14|   1|\n",
      "|Mary|2017-07-07| 69.74|   2|\n",
      "|Mary|2017-07-01| 59.44|   3|\n",
      "+----+----------+------+----+\n",
      "\n"
     ]
    }
   ],
   "source": [
    "# RANK window function to find top two highest transaction amount\n",
    "spark.sql(\"\"\"select name\n",
    "                , tx_date\n",
    "                , amount\n",
    "                , RANK() OVER (PARTITION BY name ORDER BY amount DESC) as rank \n",
    "                from tx_data\"\"\").show()"
   ]
  },
  {
   "cell_type": "code",
   "execution_count": 68,
   "metadata": {},
   "outputs": [
    {
     "name": "stdout",
     "output_type": "stream",
     "text": [
      "+----+----------+------+-----------+\n",
      "|name|   tx_date|amount|amount_diff|\n",
      "+----+----------+------+-----------+\n",
      "|John|2017-07-06| 27.33|        0.0|\n",
      "|John|2017-07-04| 21.72|       5.61|\n",
      "|John|2017-07-02| 13.35|      13.98|\n",
      "|Mary|2017-07-05| 80.14|        0.0|\n",
      "|Mary|2017-07-07| 69.74|       10.4|\n",
      "|Mary|2017-07-01| 59.44|       20.7|\n",
      "+----+----------+------+-----------+\n",
      "\n"
     ]
    }
   ],
   "source": [
    "# difference between maximum transaction amount\n",
    "spark.sql(\"\"\"select name\n",
    "          , tx_date, amount\n",
    "          , round((max_amount - amount),2) as amount_diff  \n",
    "          from\n",
    "            (select name, tx_date, amount\n",
    "            , MAX(amount) OVER (PARTITION BY name ORDER BY amount DESC \n",
    "            RANGE BETWEEN UNBOUNDED PRECEDING AND UNBOUNDED FOLLOWING) as max_amount \n",
    "            from tx_data)\"\"\").show()"
   ]
  },
  {
   "cell_type": "code",
   "execution_count": 69,
   "metadata": {},
   "outputs": [
    {
     "name": "stdout",
     "output_type": "stream",
     "text": [
      "+----+----------+------+----------+\n",
      "|name|   tx_date|amount|moving_avg|\n",
      "+----+----------+------+----------+\n",
      "|John|2017-07-02| 13.35|     17.54|\n",
      "|John|2017-07-04| 21.72|      20.8|\n",
      "|John|2017-07-06| 27.33|     24.53|\n",
      "|Mary|2017-07-01| 59.44|     69.79|\n",
      "|Mary|2017-07-05| 80.14|     69.77|\n",
      "|Mary|2017-07-07| 69.74|     74.94|\n",
      "+----+----------+------+----------+\n",
      "\n"
     ]
    }
   ],
   "source": [
    "# moving average\n",
    "spark.sql(\"\"\"select name, tx_date, amount, round(moving_avg,2) as moving_avg\n",
    "from\n",
    "(\n",
    "select name, tx_date, amount, AVG(amount) OVER\n",
    "(PARTITION BY name ORDER BY tx_date\n",
    "ROWS BETWEEN 1 PRECEDING AND 1 FOLLOWING\n",
    ") as moving_avg from tx_data)\"\"\"\n",
    ").show()"
   ]
  },
  {
   "cell_type": "code",
   "execution_count": 70,
   "metadata": {},
   "outputs": [
    {
     "name": "stdout",
     "output_type": "stream",
     "text": [
      "+----+----------+------+----------+\n",
      "|name|   tx_date|amount|moving_avg|\n",
      "+----+----------+------+----------+\n",
      "|John|2017-07-02| 13.35|     13.35|\n",
      "|John|2017-07-04| 21.72|     35.07|\n",
      "|John|2017-07-06| 27.33|      62.4|\n",
      "|Mary|2017-07-01| 59.44|     59.44|\n",
      "|Mary|2017-07-05| 80.14|    139.58|\n",
      "|Mary|2017-07-07| 69.74|    209.32|\n",
      "+----+----------+------+----------+\n",
      "\n"
     ]
    }
   ],
   "source": [
    "# cumulative sum\n",
    "spark.sql(\"\"\"select name, tx_date, amount, round(culm_sum,2) as moving_avg\n",
    "from\n",
    "(\n",
    "select name, tx_date, amount, SUM(amount) OVER\n",
    "(PARTITION BY name ORDER BY tx_date\n",
    "ROWS BETWEEN UNBOUNDED PRECEDING AND CURRENT ROW\n",
    ") as culm_sum from tx_data)\"\"\"\n",
    ").show()"
   ]
  },
  {
   "cell_type": "markdown",
   "metadata": {},
   "source": [
    "# Explain\n",
    "> in the output, you see four sections: \n",
    "> * parsed logical plan\n",
    "> * analyzed logical plan optimized\n",
    "> * logical plan\n",
    "> * physical plan"
   ]
  },
  {
   "cell_type": "markdown",
   "metadata": {},
   "source": [
    "Using the explain Function to Generate the Logical and Physical Plans"
   ]
  },
  {
   "cell_type": "code",
   "execution_count": 3,
   "metadata": {},
   "outputs": [
    {
     "data": {
      "text/plain": [
       "'/home/msi/beginning-apache-spark-3/chapter3/data/movies/movies.parquet'"
      ]
     },
     "execution_count": 3,
     "metadata": {},
     "output_type": "execute_result"
    }
   ],
   "source": [
    "path = \"/home/msi/beginning-apache-spark-3/chapter3/data/movies\"\n",
    "path = os.path.join(path,\"movies.parquet\")\n",
    "path"
   ]
  },
  {
   "cell_type": "code",
   "execution_count": 5,
   "metadata": {},
   "outputs": [
    {
     "name": "stdout",
     "output_type": "stream",
     "text": [
      "root\n",
      " |-- actor_name: string (nullable = true)\n",
      " |-- movie_title: string (nullable = true)\n",
      " |-- produced_year: long (nullable = true)\n",
      "\n",
      "None\n",
      "+-----------------+------------------+-------------+\n",
      "|       actor_name|       movie_title|produced_year|\n",
      "+-----------------+------------------+-------------+\n",
      "|McClure, Marc (I)|      Coach Carter|         2005|\n",
      "|McClure, Marc (I)|       Superman II|         1980|\n",
      "|McClure, Marc (I)|         Apollo 13|         1995|\n",
      "|McClure, Marc (I)|          Superman|         1978|\n",
      "|McClure, Marc (I)|Back to the Future|         1985|\n",
      "+-----------------+------------------+-------------+\n",
      "only showing top 5 rows\n",
      "\n"
     ]
    }
   ],
   "source": [
    "# read movies data in Parquet format\n",
    "moviesDF = spark.read.load(path)\n",
    "print(moviesDF.printSchema())\n",
    "moviesDF.show(5)\n",
    "\n"
   ]
  },
  {
   "cell_type": "code",
   "execution_count": 9,
   "metadata": {},
   "outputs": [
    {
     "name": "stdout",
     "output_type": "stream",
     "text": [
      "+-----------------+------------------+-------------+---------------+\n",
      "|       actor_name|       movie_title|produced_year|produced_decade|\n",
      "+-----------------+------------------+-------------+---------------+\n",
      "|McClure, Marc (I)|      Coach Carter|         2005|             00|\n",
      "|McClure, Marc (I)|       Superman II|         1980|             80|\n",
      "|McClure, Marc (I)|         Apollo 13|         1995|             90|\n",
      "|McClure, Marc (I)|          Superman|         1978|             70|\n",
      "|McClure, Marc (I)|Back to the Future|         1985|             80|\n",
      "+-----------------+------------------+-------------+---------------+\n",
      "only showing top 5 rows\n",
      "\n",
      "None\n"
     ]
    }
   ],
   "source": [
    "#  perform two filtering conditions\n",
    "newMoviesDF = moviesDF.filter(F.col(\"produced_year\") > 1970)\\\n",
    "                              .withColumn(\"produced_decade\",\n",
    "                                          F.substring(\n",
    "                                              (F.col(\"produced_year\") - F.col(\"produced_year\") % 10)\n",
    "                                              ,-2,2)\n",
    "                                              )\n",
    "newMoviesDF.show(5)"
   ]
  },
  {
   "cell_type": "code",
   "execution_count": 10,
   "metadata": {},
   "outputs": [],
   "source": [
    "latestMoviesDF = newMoviesDF.select(\"movie_title\", \"produced_decade\")\\\n",
    "    .where(F.col(\"produced_decade\") > 2010)"
   ]
  },
  {
   "cell_type": "code",
   "execution_count": 11,
   "metadata": {},
   "outputs": [
    {
     "name": "stdout",
     "output_type": "stream",
     "text": [
      "== Parsed Logical Plan ==\n",
      "'Filter ('produced_decade > 2010)\n",
      "+- Project [movie_title#21, produced_decade#84]\n",
      "   +- Project [actor_name#20, movie_title#21, produced_year#22L, substring(cast((produced_year#22L - (produced_year#22L % cast(10 as bigint))) as string), -2, 2) AS produced_decade#84]\n",
      "      +- Filter (produced_year#22L > cast(1970 as bigint))\n",
      "         +- Relation [actor_name#20,movie_title#21,produced_year#22L] parquet\n",
      "\n",
      "== Analyzed Logical Plan ==\n",
      "movie_title: string, produced_decade: string\n",
      "Filter (cast(produced_decade#84 as int) > 2010)\n",
      "+- Project [movie_title#21, produced_decade#84]\n",
      "   +- Project [actor_name#20, movie_title#21, produced_year#22L, substring(cast((produced_year#22L - (produced_year#22L % cast(10 as bigint))) as string), -2, 2) AS produced_decade#84]\n",
      "      +- Filter (produced_year#22L > cast(1970 as bigint))\n",
      "         +- Relation [actor_name#20,movie_title#21,produced_year#22L] parquet\n",
      "\n",
      "== Optimized Logical Plan ==\n",
      "Project [movie_title#21, substring(cast((produced_year#22L - (produced_year#22L % 10)) as string), -2, 2) AS produced_decade#84]\n",
      "+- Filter (isnotnull(produced_year#22L) AND ((produced_year#22L > 1970) AND (cast(substring(cast((produced_year#22L - (produced_year#22L % 10)) as string), -2, 2) as int) > 2010)))\n",
      "   +- Relation [actor_name#20,movie_title#21,produced_year#22L] parquet\n",
      "\n",
      "== Physical Plan ==\n",
      "*(1) Project [movie_title#21, substring(cast((produced_year#22L - (produced_year#22L % 10)) as string), -2, 2) AS produced_decade#84]\n",
      "+- *(1) Filter ((isnotnull(produced_year#22L) AND (produced_year#22L > 1970)) AND (cast(substring(cast((produced_year#22L - (produced_year#22L % 10)) as string), -2, 2) as int) > 2010))\n",
      "   +- *(1) ColumnarToRow\n",
      "      +- FileScan parquet [movie_title#21,produced_year#22L] Batched: true, DataFilters: [isnotnull(produced_year#22L), (produced_year#22L > 1970), (cast(substring(cast((produced_year#22..., Format: Parquet, Location: InMemoryFileIndex(1 paths)[file:/home/msi/beginning-apache-spark-3/chapter3/data/movies/movies.pa..., PartitionFilters: [], PushedFilters: [IsNotNull(produced_year), GreaterThan(produced_year,1970)], ReadSchema: struct<movie_title:string,produced_year:bigint>\n",
      "\n"
     ]
    }
   ],
   "source": [
    "# display both logical and physical plans\n",
    "latestMoviesDF.explain(True)"
   ]
  },
  {
   "cell_type": "markdown",
   "metadata": {},
   "source": [
    ">  form of a string to allow you to specify which of the five modes to see in the\n",
    "output\n",
    "\n",
    "| Mode      | Description                                                                             |\n",
    "|-----------|-----------------------------------------------------------------------------------------|\n",
    "| simple    | Print only a physical plan.                                                             |\n",
    "| extended  | Print both logical and physical plans.                                                  |\n",
    "| codegen   | Print a physical plan and the generated codes (if they are available).                  |\n",
    "| cost      | Print a logical plan and statistics if they are available.                              |\n",
    "| formatted | Split the explain output into two sections; a physical plan outline and details.        |\n"
   ]
  },
  {
   "cell_type": "code",
   "execution_count": 13,
   "metadata": {},
   "outputs": [
    {
     "name": "stdout",
     "output_type": "stream",
     "text": [
      "== Physical Plan ==\n",
      "* Project (4)\n",
      "+- * Filter (3)\n",
      "   +- * ColumnarToRow (2)\n",
      "      +- Scan parquet  (1)\n",
      "\n",
      "\n",
      "(1) Scan parquet \n",
      "Output [2]: [movie_title#21, produced_year#22L]\n",
      "Batched: true\n",
      "Location: InMemoryFileIndex [file:/home/msi/beginning-apache-spark-3/chapter3/data/movies/movies.parquet]\n",
      "PushedFilters: [IsNotNull(produced_year), GreaterThan(produced_year,1970)]\n",
      "ReadSchema: struct<movie_title:string,produced_year:bigint>\n",
      "\n",
      "(2) ColumnarToRow [codegen id : 1]\n",
      "Input [2]: [movie_title#21, produced_year#22L]\n",
      "\n",
      "(3) Filter [codegen id : 1]\n",
      "Input [2]: [movie_title#21, produced_year#22L]\n",
      "Condition : ((isnotnull(produced_year#22L) AND (produced_year#22L > 1970)) AND (cast(substring(cast((produced_year#22L - (produced_year#22L % 10)) as string), -2, 2) as int) > 2010))\n",
      "\n",
      "(4) Project [codegen id : 1]\n",
      "Output [2]: [movie_title#21, substring(cast((produced_year#22L - (produced_year#22L % 10)) as string), -2, 2) AS produced_decade#84]\n",
      "Input [2]: [movie_title#21, produced_year#22L]\n",
      "\n",
      "\n"
     ]
    }
   ],
   "source": [
    "latestMoviesDF.explain(\"formatted\")"
   ]
  },
  {
   "cell_type": "code",
   "execution_count": 14,
   "metadata": {},
   "outputs": [],
   "source": [
    "spark.stop()"
   ]
  }
 ],
 "metadata": {
  "kernelspec": {
   "display_name": "base",
   "language": "python",
   "name": "python3"
  },
  "language_info": {
   "codemirror_mode": {
    "name": "ipython",
    "version": 3
   },
   "file_extension": ".py",
   "mimetype": "text/x-python",
   "name": "python",
   "nbconvert_exporter": "python",
   "pygments_lexer": "ipython3",
   "version": "3.11.7"
  }
 },
 "nbformat": 4,
 "nbformat_minor": 2
}
