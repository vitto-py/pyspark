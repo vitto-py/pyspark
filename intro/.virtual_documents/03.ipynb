import sys
from pyspark.sql import SparkSession
from pyspark.sql.functions import count, col, expr


spark = SparkSession.builder.appName("ch01").getOrCreate()


schema = '''`CallNumber` INT, 
`UnitID` STRING, 
`IncidentNumber` INT, 
`CallType` STRING, 
`CallDate` STRING, 
`WatchDate` STRING, 
`CallFinalDisposition` STRING, 
`AvailableDtTm` STRING, 
`Address` STRING, 
`City` STRING, 
`Zipcode` INT, 
`Battalion` STRING, 
`StationArea` STRING, 
`Box` STRING, 
`OriginalPriority` STRING, 
`Priority` STRING, 
`FinalPriority` INT, 
`ALSUnit` BOOLEAN, 
`CallTypeGroup` STRING, 
`NumAlarms` INT, 
`UnitType` STRING, 
`UnitSequenceInCallDispatch` INT, 
`FirePreventionDistrict` STRING, 
`SupervisorDistrict` STRING, 
`Neighborhood` STRING, 
`Location` STRING, 
`RowID` STRING, 
`Delay` FLOAT'''





sf_fire_file = "./learning-spark-v2/sf-fire/sf-fire-calls.csv"
fire_df = spark.read.csv(sf_fire_file, header=True, schema=schema)


print(fire_df.printSchema())
fire_df.show(5)








few_fire_df = (fire_df
.select("IncidentNumber", "AvailableDtTm", "CallType")
.where(col("CallType") != "Medical Incident")) # select where not
few_fire_df.show(5, truncate=False)


# import all possible Functions


# In Python
import pyspark.sql.functions as F


# use () for multi-line
(fire_df.select("CallType")
.where(col("CallType").isNotNull())
.agg(F.countDistinct("CallType").alias("DistinctCallTypes")) #countDistinct
.show())


# or one line
fire_df.select("CallType").where(col("CallType").isNotNull()).agg(F.countDistinct("CallType").alias("DistinctCallTypes")).show()


(fire_df
.select("CallType")
.where(col("CallType").isNotNull())
.distinct()
.show(10, False))


# Rename a column
new_fire_df = fire_df.withColumnRenamed("Delay", "ResponseDelayedinMins")
(new_fire_df
.select("ResponseDelayedinMins")
.where(col("ResponseDelayedinMins") > 5)
.show(5, False))





fire_ts_df = (new_fire_df
.withColumn("IncidentDate", F.to_timestamp(col("CallDate"), "MM/dd/yyyy"))
.drop("CallDate")
.withColumn("OnWatchDate", F.to_timestamp(col("WatchDate"), "MM/dd/yyyy"))
.drop("WatchDate")
.withColumn("AvailableDtTS", F.to_timestamp(col("AvailableDtTm"),
"MM/dd/yyyy hh:mm:ss a"))
.drop("AvailableDtTm"))


fire_ts_df.select("IncidentDate", "OnWatchDate", "AvailableDtTS").show(5, False)





(fire_ts_df
.select(F.year('IncidentDate'))
.distinct()
.orderBy(F.year('IncidentDate'))
.show())



