{
 "cells": [
  {
   "cell_type": "code",
   "execution_count": 1,
   "id": "4912a127-ba0f-44b6-ad11-7373dae5e674",
   "metadata": {},
   "outputs": [],
   "source": [
    "import sys\n",
    "from pyspark.sql import SparkSession\n",
    "from pyspark.sql.functions import count, col, expr"
   ]
  },
  {
   "cell_type": "code",
   "execution_count": 2,
   "id": "00a8d56f-580d-41e8-83d9-d7d24e4002f5",
   "metadata": {},
   "outputs": [
    {
     "name": "stderr",
     "output_type": "stream",
     "text": [
      "Setting default log level to \"WARN\".\n",
      "To adjust logging level use sc.setLogLevel(newLevel). For SparkR, use setLogLevel(newLevel).\n",
      "24/05/05 23:13:47 WARN NativeCodeLoader: Unable to load native-hadoop library for your platform... using builtin-java classes where applicable\n",
      "24/05/05 23:13:47 WARN Utils: Service 'SparkUI' could not bind on port 4040. Attempting port 4041.\n"
     ]
    }
   ],
   "source": [
    "spark = SparkSession.builder.appName(\"ch01\").getOrCreate()"
   ]
  },
  {
   "cell_type": "code",
   "execution_count": 3,
   "id": "7aeecd65-434a-40dc-923c-1dbaf4460721",
   "metadata": {},
   "outputs": [],
   "source": [
    "schema = '''`CallNumber` INT, \n",
    "`UnitID` STRING, \n",
    "`IncidentNumber` INT, \n",
    "`CallType` STRING, \n",
    "`CallDate` STRING, \n",
    "`WatchDate` STRING, \n",
    "`CallFinalDisposition` STRING, \n",
    "`AvailableDtTm` STRING, \n",
    "`Address` STRING, \n",
    "`City` STRING, \n",
    "`Zipcode` INT, \n",
    "`Battalion` STRING, \n",
    "`StationArea` STRING, \n",
    "`Box` STRING, \n",
    "`OriginalPriority` STRING, \n",
    "`Priority` STRING, \n",
    "`FinalPriority` INT, \n",
    "`ALSUnit` BOOLEAN, \n",
    "`CallTypeGroup` STRING, \n",
    "`NumAlarms` INT, \n",
    "`UnitType` STRING, \n",
    "`UnitSequenceInCallDispatch` INT, \n",
    "`FirePreventionDistrict` STRING, \n",
    "`SupervisorDistrict` STRING, \n",
    "`Neighborhood` STRING, \n",
    "`Location` STRING, \n",
    "`RowID` STRING, \n",
    "`Delay` FLOAT'''"
   ]
  },
  {
   "cell_type": "code",
   "execution_count": null,
   "id": "3ade567b-887a-4f17-a2fd-921a0c941f25",
   "metadata": {},
   "outputs": [],
   "source": [
    "sf_fire_file = \"./learning-spark-v2/sf-fire/sf-fire-calls.csv\"\n",
    "fire_df = spark.read.csv(sf_fire_file, header=True, schema=fire_schema)"
   ]
  }
 ],
 "metadata": {
  "kernelspec": {
   "display_name": "Python 3 (ipykernel)",
   "language": "python",
   "name": "python3"
  },
  "language_info": {
   "codemirror_mode": {
    "name": "ipython",
    "version": 3
   },
   "file_extension": ".py",
   "mimetype": "text/x-python",
   "name": "python",
   "nbconvert_exporter": "python",
   "pygments_lexer": "ipython3",
   "version": "3.11.7"
  }
 },
 "nbformat": 4,
 "nbformat_minor": 5
}
